{
  "nbformat": 4,
  "nbformat_minor": 0,
  "metadata": {
    "colab": {
      "name": "WQI_Forecasting.ipynb",
      "provenance": [],
      "collapsed_sections": []
    },
    "kernelspec": {
      "name": "python3",
      "display_name": "Python 3"
    },
    "language_info": {
      "name": "python"
    },
    "accelerator": "GPU"
  },
  "cells": [
    {
      "cell_type": "code",
      "execution_count": null,
      "metadata": {
        "id": "E9Udud7zL0eo"
      },
      "outputs": [],
      "source": [
        "\n",
        "from cmath import nan\n",
        "from curses import raw\n",
        "import os \n",
        "import pathlib\n",
        "import pandas as pd\n",
        "import numpy as np"
      ]
    },
    {
      "cell_type": "code",
      "source": [
        "from google.colab import drive\n",
        "drive.mount('/content/drive')"
      ],
      "metadata": {
        "id": "yyp3cIO8dm3i",
        "colab": {
          "base_uri": "https://localhost:8080/"
        },
        "outputId": "130f43e3-5a19-4164-87fe-026201e2df8c"
      },
      "execution_count": null,
      "outputs": [
        {
          "output_type": "stream",
          "name": "stdout",
          "text": [
            "Mounted at /content/drive\n"
          ]
        }
      ]
    },
    {
      "cell_type": "code",
      "source": [
        "years = [2013, 2014, 2016, 2017, 2018, 2019, 2020]\n",
        "\n",
        "\n",
        "path = \"/content/drive/MyDrive/Water_Quality_Data/Rivers/\"\n",
        "\n",
        "# Replce paths with GDRIVE PATHS \n",
        "river_path = \"/content/drive/MyDrive/Water_Quality_Data/Rivers/\"\n",
        "\n",
        "gw_path = \"/content/drive/MyDrive/Water_Quality_Data/Ground_Water/\"\n",
        "\n",
        "sea_path = \"/content/drive/MyDrive/Water_Quality_Data/Sea_Water/\"\n"
      ],
      "metadata": {
        "id": "GUHl9HBeXjJx"
      },
      "execution_count": null,
      "outputs": []
    },
    {
      "cell_type": "markdown",
      "source": [
        "Columns Needed and their index in the df after readinf from the xcel sheets\n",
        "\n",
        "|              | 13, 14, 20 | 16-19 |\n",
        "|--------------|------------|-------|\n",
        "| Station Code | 0          | 0     |\n",
        "| State        | 2          | 2     |\n",
        "| Temp_min     | 3          | 3     |\n",
        "| Temp_max     | 4          | 4     |\n",
        "| DO MIN       | 6          | 5     |\n",
        "| DO MAX       | 7          | 6     |\n",
        "| PH MIN       | 9          | 7     |\n",
        "| PH MAX       | 10         | 8     |\n",
        "| COND MIN     | 12         | 9     |\n",
        "| COND MAX     | 13         | 10    |\n",
        "| BCOD MIN     | 15         | 11    |\n",
        "| BCOD MAX     | 16         | 12    |\n",
        "| NIT MIN      | 18         | 13    |\n",
        "| NIT MAX      | 19         | 14    |\n",
        "| FC MIN       | 21         | 15    |\n",
        "| FC MAX       | 22         | 16    |\n",
        "| TC MIN       | 24         | 17    |\n",
        "| TC MAX       | 25         | 18    |\n",
        "\n",
        "\n",
        "---\n",
        "|  Year              | Rows to be dropped|\n",
        "|--------------------|----------------------------------------------|\n",
        "| 2013,14,20         | Unnamed: 0, 1, 5, 8, 11, 14, 17, 20, 23, 26|\n",
        "| 2016 - 2019        | Unnamed: 0, 1, 19, 20|\n"
      ],
      "metadata": {
        "id": "vH9mYfVzcSoB"
      }
    },
    {
      "cell_type": "code",
      "source": [
        "#River Data \n",
        "\n",
        "raw_df_list = []\n",
        "path = river_path\n",
        "\n",
        "for year in years:\n",
        "  \n",
        "  # NO data of 2020 for rivers\n",
        "  if(year == 2020):\n",
        "    continue\n",
        "  \n",
        "  files_read = 0\n",
        "  files = os.listdir(path+str(year)+\"/\")\n",
        "\n",
        "  for file in files:\n",
        "    file_path = path+str(year)+\"/\"+file\n",
        "    if pathlib.Path(file_path).suffix == \".xlsx\":\n",
        "      files_read+=1\n",
        "      raw_df = pd.read_excel(file_path)\n",
        "      \n",
        "      if (year == 2013 or year == 2014):\n",
        "        raw_df = raw_df.drop([\"Unnamed: 0\", 1,2,5,8,11,14,17,20,23,26], axis = 1)\n",
        "        \n",
        "      else:\n",
        "        raw_df = raw_df.drop(['Unnamed: 0',1,2], axis = 1 )\n",
        "        # instead of dropping rows 19 and 20 delete them only if they are present\n",
        "        # 19, 20 rows are TC\n",
        "        if 19 in raw_df.columns:\n",
        "          raw_df = raw_df.drop([19], axis = 1 )\n",
        "        if 20 in raw_df.columns:\n",
        "          raw_df = raw_df.drop([20], axis = 1 )\n",
        "      \n",
        "      if(len(raw_df.columns) < 16):\n",
        "        continue\n",
        "      raw_df.columns = ['Station_Code', 'Temp_Min', 'Temp_Max', 'DO_Min', 'DO_Max', 'PH_Min', 'PH_Max', 'Cond_Min', 'Cond_Max', 'BCOD_Min', 'BCOD_Max', 'Nit_Min', 'Nit_Max', 'FC_Min', 'FC_Max', 'TC_Min', 'TC_Max']\n",
        "          \n",
        "      #removing header rows\n",
        "      raw_df = raw_df.drop([0,1,2], axis =0 )\n",
        "\n",
        "      # re-indicing rows\n",
        "      raw_df.index=range(0,len(raw_df))\n",
        "\n",
        "      # Adding year column to data frame\n",
        "      raw_df['year'] = year\n",
        "\n",
        "      # print(raw_df)\n",
        "      raw_df_list.append(raw_df)\n",
        "\n",
        "river_df  = pd.concat(raw_df_list, ignore_index=True)\n",
        "\n",
        "river_df.info()"
      ],
      "metadata": {
        "id": "NbHix20BX3Bm",
        "colab": {
          "base_uri": "https://localhost:8080/"
        },
        "outputId": "85b0cc3b-d2f2-4894-f4a0-9885f0e0c187"
      },
      "execution_count": null,
      "outputs": [
        {
          "output_type": "stream",
          "name": "stdout",
          "text": [
            "<class 'pandas.core.frame.DataFrame'>\n",
            "RangeIndex: 5256 entries, 0 to 5255\n",
            "Data columns (total 18 columns):\n",
            " #   Column        Non-Null Count  Dtype \n",
            "---  ------        --------------  ----- \n",
            " 0   Station_Code  5187 non-null   object\n",
            " 1   Temp_Min      5128 non-null   object\n",
            " 2   Temp_Max      5134 non-null   object\n",
            " 3   DO_Min        5137 non-null   object\n",
            " 4   DO_Max        5138 non-null   object\n",
            " 5   PH_Min        5192 non-null   object\n",
            " 6   PH_Max        5197 non-null   object\n",
            " 7   Cond_Min      5028 non-null   object\n",
            " 8   Cond_Max      5028 non-null   object\n",
            " 9   BCOD_Min      5102 non-null   object\n",
            " 10  BCOD_Max      5107 non-null   object\n",
            " 11  Nit_Min       4919 non-null   object\n",
            " 12  Nit_Max       4911 non-null   object\n",
            " 13  FC_Min        4509 non-null   object\n",
            " 14  FC_Max        4514 non-null   object\n",
            " 15  TC_Min        4771 non-null   object\n",
            " 16  TC_Max        4776 non-null   object\n",
            " 17  year          5256 non-null   int64 \n",
            "dtypes: int64(1), object(17)\n",
            "memory usage: 739.2+ KB\n"
          ]
        }
      ]
    },
    {
      "cell_type": "code",
      "source": [
        "# Ground Water Data\n",
        "\n",
        "raw_df_list = []\n",
        "path = gw_path\n",
        "\n",
        "for year in years:\n",
        "  \n",
        "  # NO data of 2020 for rivers\n",
        "  if(year == 2020):\n",
        "    continue\n",
        "  \n",
        "  files_read = 0\n",
        "  files = os.listdir(path+str(year)+\"/\")\n",
        "\n",
        "  for file in files:\n",
        "    file_path = path+str(year)+\"/\"+file\n",
        "    if pathlib.Path(file_path).suffix == \".xlsx\":\n",
        "      files_read+=1\n",
        "      raw_df = pd.read_excel(file_path)\n",
        "      \n",
        "      if (year == 2013 or year == 2014):\n",
        "        raw_df = raw_df.drop([\"Unnamed: 0\", 1,2,5,8,11,14,17,20,23], axis = 1)\n",
        "        \n",
        "      else:\n",
        "        raw_df = raw_df.drop(['Unnamed: 0',1,2], axis = 1 )\n",
        "        # instead of dropping rows 19 and 20 delete them only if they are present\n",
        "        # 19, 20 rows are TC\n",
        "        if 19 in raw_df.columns:\n",
        "          raw_df = raw_df.drop([19], axis = 1 )\n",
        "        if 20 in raw_df.columns:\n",
        "          raw_df = raw_df.drop([20], axis = 1 )\n",
        "      \n",
        "      if(len(raw_df.columns) != 17):\n",
        "        continue\n",
        "      raw_df.columns = ['Station_Code', 'Temp_Min', 'Temp_Max', 'DO_Min', 'DO_Max', 'PH_Min', 'PH_Max', 'Cond_Min', 'Cond_Max', 'BCOD_Min', 'BCOD_Max', 'Nit_Min', 'Nit_Max', 'FC_Min', 'FC_Max', 'TC_Min', 'TC_Max']\n",
        "          \n",
        "      #removing header rows\n",
        "      raw_df = raw_df.drop([0,1,2], axis =0 )\n",
        "\n",
        "      # re-indicing rows\n",
        "      raw_df.index=range(0,len(raw_df))\n",
        "\n",
        "      # Adding year column to data frame\n",
        "      raw_df['year'] = year\n",
        "\n",
        "      # print(raw_df)\n",
        "      raw_df_list.append(raw_df)\n",
        "\n",
        "gw_df  = pd.concat(raw_df_list, ignore_index=True)\n",
        "\n",
        "gw_df.info()"
      ],
      "metadata": {
        "id": "Gz8UfIQBzMnm",
        "colab": {
          "base_uri": "https://localhost:8080/"
        },
        "outputId": "d8c031ba-b986-4bd1-9c99-b0d9b851177b"
      },
      "execution_count": null,
      "outputs": [
        {
          "output_type": "stream",
          "name": "stdout",
          "text": [
            "<class 'pandas.core.frame.DataFrame'>\n",
            "RangeIndex: 942 entries, 0 to 941\n",
            "Data columns (total 18 columns):\n",
            " #   Column        Non-Null Count  Dtype \n",
            "---  ------        --------------  ----- \n",
            " 0   Station_Code  942 non-null    object\n",
            " 1   Temp_Min      843 non-null    object\n",
            " 2   Temp_Max      843 non-null    object\n",
            " 3   DO_Min        360 non-null    object\n",
            " 4   DO_Max        360 non-null    object\n",
            " 5   PH_Min        923 non-null    object\n",
            " 6   PH_Max        923 non-null    object\n",
            " 7   Cond_Min      925 non-null    object\n",
            " 8   Cond_Max      925 non-null    object\n",
            " 9   BCOD_Min      629 non-null    object\n",
            " 10  BCOD_Max      629 non-null    object\n",
            " 11  Nit_Min       859 non-null    object\n",
            " 12  Nit_Max       859 non-null    object\n",
            " 13  FC_Min        644 non-null    object\n",
            " 14  FC_Max        644 non-null    object\n",
            " 15  TC_Min        670 non-null    object\n",
            " 16  TC_Max        670 non-null    object\n",
            " 17  year          942 non-null    int64 \n",
            "dtypes: int64(1), object(17)\n",
            "memory usage: 132.6+ KB\n"
          ]
        }
      ]
    },
    {
      "cell_type": "code",
      "source": [
        "# Sea Water Data\n",
        "\n",
        "raw_df_list = []\n",
        "path = sea_path\n",
        "\n",
        "for year in years:\n",
        "  \n",
        "  # NO data of 2020 for rivers\n",
        "  if(year == 2020 or year == 2013 or year == 2014):\n",
        "    continue\n",
        "  \n",
        "  files_read = 0\n",
        "  files = os.listdir(path+str(year)+\"/\")\n",
        "\n",
        "  for file in files:\n",
        "    file_path = path+str(year)+\"/\"+file\n",
        "    if pathlib.Path(file_path).suffix == \".xlsx\":\n",
        "      files_read+=1\n",
        "      raw_df = pd.read_excel(file_path)\n",
        "      \n",
        "      if (year == 2013 or year == 2014):\n",
        "        raw_df = raw_df.drop([\"Unnamed: 0\", 1,2,5,8,11,14,17,20,23], axis = 1)\n",
        "        \n",
        "      else:\n",
        "        raw_df = raw_df.drop(['Unnamed: 0',1,2], axis = 1 )\n",
        "        # instead of dropping rows 19 and 20 delete them only if they are present\n",
        "        # 19, 20 rows are TC\n",
        "        if 19 in raw_df.columns:\n",
        "          raw_df = raw_df.drop([19], axis = 1 )\n",
        "        if 20 in raw_df.columns:\n",
        "          raw_df = raw_df.drop([20], axis = 1 )\n",
        "      \n",
        "      if(len(raw_df.columns) != 17):\n",
        "        continue\n",
        "      raw_df.columns = ['Station_Code', 'Temp_Min', 'Temp_Max', 'DO_Min', 'DO_Max', 'PH_Min', 'PH_Max', 'Cond_Min', 'Cond_Max', 'BCOD_Min', 'BCOD_Max', 'Nit_Min', 'Nit_Max', 'FC_Min', 'FC_Max', 'TC_Min', 'TC_Max']\n",
        "          \n",
        "      #removing header rows\n",
        "      raw_df = raw_df.drop([0,1,2], axis =0 )\n",
        "\n",
        "      # re-indicing rows\n",
        "      raw_df.index=range(0,len(raw_df))\n",
        "\n",
        "      # Adding year column to data frame\n",
        "      raw_df['year'] = year\n",
        "\n",
        "      # print(raw_df)\n",
        "      raw_df_list.append(raw_df)\n",
        "\n",
        "sea_df  = pd.concat(raw_df_list, ignore_index=True)\n",
        "\n",
        "sea_df.info()"
      ],
      "metadata": {
        "id": "JdeX3-FdzMJ0",
        "colab": {
          "base_uri": "https://localhost:8080/"
        },
        "outputId": "637e292c-404c-422e-bf0c-e5ee4a530062"
      },
      "execution_count": null,
      "outputs": [
        {
          "output_type": "stream",
          "name": "stdout",
          "text": [
            "<class 'pandas.core.frame.DataFrame'>\n",
            "RangeIndex: 442 entries, 0 to 441\n",
            "Data columns (total 18 columns):\n",
            " #   Column        Non-Null Count  Dtype \n",
            "---  ------        --------------  ----- \n",
            " 0   Station_Code  442 non-null    object\n",
            " 1   Temp_Min      442 non-null    object\n",
            " 2   Temp_Max      386 non-null    object\n",
            " 3   DO_Min        386 non-null    object\n",
            " 4   DO_Max        379 non-null    object\n",
            " 5   PH_Min        379 non-null    object\n",
            " 6   PH_Max        441 non-null    object\n",
            " 7   Cond_Min      441 non-null    object\n",
            " 8   Cond_Max      409 non-null    object\n",
            " 9   BCOD_Min      409 non-null    object\n",
            " 10  BCOD_Max      438 non-null    object\n",
            " 11  Nit_Min       438 non-null    object\n",
            " 12  Nit_Max       381 non-null    object\n",
            " 13  FC_Min        381 non-null    object\n",
            " 14  FC_Max        382 non-null    object\n",
            " 15  TC_Min        382 non-null    object\n",
            " 16  TC_Max        390 non-null    object\n",
            " 17  year          442 non-null    int64 \n",
            "dtypes: int64(1), object(17)\n",
            "memory usage: 62.3+ KB\n"
          ]
        }
      ]
    },
    {
      "cell_type": "code",
      "source": [
        "df_list = [river_df, gw_df, sea_df]\n",
        "\n",
        "def isnumber(x):\n",
        "    try:\n",
        "        float(x)\n",
        "        return True\n",
        "    except:\n",
        "        return False\n",
        "\n",
        "for i in range(len(df_list)):\n",
        "  # df = df[df.applymap(isnumber)]  \n",
        "  # df = df.dropna()\n",
        "  df_list[i] = df_list[i].apply (pd.to_numeric, errors='coerce')\n",
        "  df_list[i] = df_list[i].dropna()\n",
        "  df_list[i] = df_list[i].astype(\n",
        "      {\n",
        "        'Station_Code':'int',\n",
        "        'Temp_Min' : 'float64',\n",
        "        'Temp_Max' : 'float64',\n",
        "        'DO_Min' : 'float64',\n",
        "        'DO_Max' : 'float64',\n",
        "        'PH_Min' : 'float64',\n",
        "        'PH_Max' : 'float64',\n",
        "        'Cond_Min' : 'float64',\n",
        "        'Cond_Max' : 'float64',\n",
        "        'BCOD_Min' : 'float64',\n",
        "        'BCOD_Max' : 'float64',\n",
        "        'Nit_Min' : 'float64',\n",
        "        'Nit_Max' : 'float64',\n",
        "        'FC_Min' : 'float64',\n",
        "        'FC_Max' : 'float64',\n",
        "        'TC_Min' : 'float64',\n",
        "        'TC_Max' : 'float64',\n",
        "        'year':'int32'\n",
        "      })\n",
        "  df_list[i]['Temperature']= df_list[i].iloc[:,1:3].mean(axis=1)\n",
        "  df_list[i]['DO'] = df_list[i].iloc[:,3:5].mean(axis=1)\n",
        "  df_list[i]['PH'] = df_list[i].iloc[:,5:7].mean(axis=1)\n",
        "  df_list[i]['Cond'] = df_list[i].iloc[:,7:9].mean(axis=1)\n",
        "  df_list[i]['BCOD'] = df_list[i].iloc[:,9:11].mean(axis=1)\n",
        "  df_list[i]['Nit'] = df_list[i].iloc[:,11:13].mean(axis=1)\n",
        "  df_list[i]['FC'] = df_list[i].iloc[:,13:15].mean(axis=1)\n",
        "  df_list[i]['TC'] = df_list[i].iloc[:,15:17].mean(axis=1)\n",
        "  \n",
        "  print(df_list[i])\n",
        "\n",
        "\n",
        "  # Everything works smooth till here\n"
      ],
      "metadata": {
        "id": "gkE5xsxJh5kN",
        "colab": {
          "base_uri": "https://localhost:8080/"
        },
        "outputId": "c540f7b0-d1a0-41e2-beae-99d571d98543"
      },
      "execution_count": null,
      "outputs": [
        {
          "output_type": "stream",
          "name": "stdout",
          "text": [
            "      Station_Code  Temp_Min  Temp_Max  DO_Min  DO_Max  PH_Min  PH_Max  \\\n",
            "0             1641      20.0      29.0     6.8     8.4     7.5     8.5   \n",
            "6             1081      15.0      37.0     6.3     8.6     7.0     8.4   \n",
            "7             1082      21.0      32.0     5.8     8.4     7.3     8.3   \n",
            "8             1083      26.0      34.0     6.4     8.8     7.5     8.5   \n",
            "10            1084      22.0      29.0     4.5     7.8     7.4     8.3   \n",
            "...            ...       ...       ...     ...     ...     ...     ...   \n",
            "5249          1315      19.0      30.0     6.4     8.0     8.1     8.8   \n",
            "5252          3330      16.1      30.1     7.2     7.7     7.2     8.3   \n",
            "5253          1910      18.2      38.0     5.7     8.0     7.7     8.6   \n",
            "5254          2173      16.0      35.0     5.9     8.2     7.2     8.8   \n",
            "5255          2175      16.0      46.0     5.7     8.4     7.2     9.0   \n",
            "\n",
            "      Cond_Min  Cond_Max  BCOD_Min  ...   TC_Max  year  Temperature    DO  \\\n",
            "0        127.0     349.0       0.6  ...  13000.0  2013         24.5  7.60   \n",
            "6         88.0     185.0       0.3  ...  11000.0  2013         26.0  7.45   \n",
            "7         92.0     202.0       0.6  ...  54000.0  2013         26.5  7.10   \n",
            "8        105.0     232.0       1.2  ...  54000.0  2013         30.0  7.60   \n",
            "10       111.0    9720.0       0.8  ...   9200.0  2013         25.5  6.15   \n",
            "...        ...       ...       ...  ...      ...   ...          ...   ...   \n",
            "5249     274.0     732.0       3.2  ...    430.0  2019         24.5  7.20   \n",
            "5252     220.0     438.0       1.2  ...     43.0  2019         23.1  7.45   \n",
            "5253     209.0     772.0       3.0  ...    920.0  2019         28.1  6.85   \n",
            "5254      94.0     914.0       3.2  ...    350.0  2019         25.5  7.05   \n",
            "5255     139.0    2026.0       3.6  ...    540.0  2019         31.0  7.05   \n",
            "\n",
            "        PH    Cond  BCOD    Nit       FC       TC  \n",
            "0     8.00   238.0  1.20  1.728   2560.0   6895.0  \n",
            "6     7.70   136.5  1.35  2.983   2515.0   5665.0  \n",
            "7     7.80   147.0  1.40  2.139  17615.0  27039.0  \n",
            "8     8.00   168.5  1.80  1.302   9150.0  28150.0  \n",
            "10    7.85  4915.5  1.50  1.363   1950.0   5070.0  \n",
            "...    ...     ...   ...    ...      ...      ...  \n",
            "5249  8.45   503.0  3.50  1.800     72.0    228.5  \n",
            "5252  7.75   329.0  1.50  0.700      5.9     41.0  \n",
            "5253  8.15   490.5  3.60  2.800     68.0    530.0  \n",
            "5254  8.00   504.0  3.60  3.200     30.0    201.0  \n",
            "5255  8.10  1082.5  4.60  1.850     24.5    299.0  \n",
            "\n",
            "[3881 rows x 26 columns]\n",
            "     Station_Code  Temp_Min  Temp_Max  DO_Min  DO_Max  PH_Min  PH_Max  \\\n",
            "0               6      28.0      29.0     1.7     2.1     7.2     7.9   \n",
            "1            1948      29.0      29.0     2.4     2.8     8.0     8.1   \n",
            "2            1949      28.0      29.0     2.1     2.4     7.9     8.0   \n",
            "6            1954      32.0      35.0     3.1     3.2     7.2     7.4   \n",
            "8            1956      31.0      31.0     4.1     5.2     7.6     8.0   \n",
            "..            ...       ...       ...     ...     ...     ...     ...   \n",
            "937          4820      28.0      28.0     6.0     6.0     6.6     6.6   \n",
            "938          4821      28.0      28.0     6.8     6.8     7.0     7.0   \n",
            "939          4824      29.0      29.0     5.9     5.9     7.4     7.4   \n",
            "940          4825      29.0      29.0     6.7     6.7     7.6     7.6   \n",
            "941          4826      29.0      29.0     6.6     6.6     7.9     7.9   \n",
            "\n",
            "     Cond_Min  Cond_Max  BCOD_Min  ...  TC_Max  year  Temperature    DO    PH  \\\n",
            "0      1291.0    1511.0       0.4  ...     2.0  2019         28.5  1.90  7.55   \n",
            "1      1380.0    1410.0       1.2  ...     2.0  2019         29.0  2.60  8.05   \n",
            "2      1470.0    1470.0       1.2  ...     6.0  2019         28.5  2.25  7.95   \n",
            "6      2680.0    4130.0       1.1  ...     2.0  2019         33.5  3.15  7.30   \n",
            "8       355.0    3118.0       0.8  ...     2.0  2019         31.0  4.65  7.80   \n",
            "..        ...       ...       ...  ...     ...   ...          ...   ...   ...   \n",
            "937     178.0     178.0       2.5  ...   110.0  2019         28.0  6.00  6.60   \n",
            "938     388.0     388.0       0.4  ...    11.0  2019         28.0  6.80  7.00   \n",
            "939    3360.0    3360.0       1.6  ...     4.0  2019         29.0  5.90  7.40   \n",
            "940    1958.0    1958.0       0.7  ...     4.0  2019         29.0  6.70  7.60   \n",
            "941     360.0     360.0       0.4  ...     6.0  2019         29.0  6.60  7.90   \n",
            "\n",
            "       Cond  BCOD    Nit    FC     TC  \n",
            "0    1401.0  0.40  0.430   2.0    2.0  \n",
            "1    1395.0  1.30  0.165   2.0    2.0  \n",
            "2    1470.0  1.50  0.255   2.0    4.0  \n",
            "6    3405.0  1.25  1.005   2.0    2.0  \n",
            "8    1736.5  1.00  0.155   2.0    2.0  \n",
            "..      ...   ...    ...   ...    ...  \n",
            "937   178.0  2.50  1.300  32.0  110.0  \n",
            "938   388.0  0.40  0.060   4.0   11.0  \n",
            "939  3360.0  1.60  2.010   2.0    4.0  \n",
            "940  1958.0  0.70  0.250   2.0    4.0  \n",
            "941   360.0  0.40  1.650   4.0    6.0  \n",
            "\n",
            "[239 rows x 26 columns]\n",
            "Empty DataFrame\n",
            "Columns: [Station_Code, Temp_Min, Temp_Max, DO_Min, DO_Max, PH_Min, PH_Max, Cond_Min, Cond_Max, BCOD_Min, BCOD_Max, Nit_Min, Nit_Max, FC_Min, FC_Max, TC_Min, TC_Max, year, Temperature, DO, PH, Cond, BCOD, Nit, FC, TC]\n",
            "Index: []\n",
            "\n",
            "[0 rows x 26 columns]\n"
          ]
        }
      ]
    },
    {
      "cell_type": "code",
      "source": [
        "for df in df_list:\n",
        "  print(df)\n",
        "  # df['Temperature']= df.iloc[:,1:3].mean(axis=1)\n",
        "  "
      ],
      "metadata": {
        "id": "rZ1jPDqqw2lK",
        "colab": {
          "base_uri": "https://localhost:8080/"
        },
        "outputId": "d4f9c538-1601-474c-ee04-29a0bf34c012"
      },
      "execution_count": null,
      "outputs": [
        {
          "output_type": "stream",
          "name": "stdout",
          "text": [
            "      Station_Code  Temp_Min  Temp_Max  DO_Min  DO_Max  PH_Min  PH_Max  \\\n",
            "0             1641      20.0      29.0     6.8     8.4     7.5     8.5   \n",
            "6             1081      15.0      37.0     6.3     8.6     7.0     8.4   \n",
            "7             1082      21.0      32.0     5.8     8.4     7.3     8.3   \n",
            "8             1083      26.0      34.0     6.4     8.8     7.5     8.5   \n",
            "10            1084      22.0      29.0     4.5     7.8     7.4     8.3   \n",
            "...            ...       ...       ...     ...     ...     ...     ...   \n",
            "5249          1315      19.0      30.0     6.4     8.0     8.1     8.8   \n",
            "5252          3330      16.1      30.1     7.2     7.7     7.2     8.3   \n",
            "5253          1910      18.2      38.0     5.7     8.0     7.7     8.6   \n",
            "5254          2173      16.0      35.0     5.9     8.2     7.2     8.8   \n",
            "5255          2175      16.0      46.0     5.7     8.4     7.2     9.0   \n",
            "\n",
            "      Cond_Min  Cond_Max  BCOD_Min  ...   TC_Max  year  Temperature    DO  \\\n",
            "0        127.0     349.0       0.6  ...  13000.0  2013         24.5  7.60   \n",
            "6         88.0     185.0       0.3  ...  11000.0  2013         26.0  7.45   \n",
            "7         92.0     202.0       0.6  ...  54000.0  2013         26.5  7.10   \n",
            "8        105.0     232.0       1.2  ...  54000.0  2013         30.0  7.60   \n",
            "10       111.0    9720.0       0.8  ...   9200.0  2013         25.5  6.15   \n",
            "...        ...       ...       ...  ...      ...   ...          ...   ...   \n",
            "5249     274.0     732.0       3.2  ...    430.0  2019         24.5  7.20   \n",
            "5252     220.0     438.0       1.2  ...     43.0  2019         23.1  7.45   \n",
            "5253     209.0     772.0       3.0  ...    920.0  2019         28.1  6.85   \n",
            "5254      94.0     914.0       3.2  ...    350.0  2019         25.5  7.05   \n",
            "5255     139.0    2026.0       3.6  ...    540.0  2019         31.0  7.05   \n",
            "\n",
            "        PH    Cond  BCOD    Nit       FC       TC  \n",
            "0     8.00   238.0  1.20  1.728   2560.0   6895.0  \n",
            "6     7.70   136.5  1.35  2.983   2515.0   5665.0  \n",
            "7     7.80   147.0  1.40  2.139  17615.0  27039.0  \n",
            "8     8.00   168.5  1.80  1.302   9150.0  28150.0  \n",
            "10    7.85  4915.5  1.50  1.363   1950.0   5070.0  \n",
            "...    ...     ...   ...    ...      ...      ...  \n",
            "5249  8.45   503.0  3.50  1.800     72.0    228.5  \n",
            "5252  7.75   329.0  1.50  0.700      5.9     41.0  \n",
            "5253  8.15   490.5  3.60  2.800     68.0    530.0  \n",
            "5254  8.00   504.0  3.60  3.200     30.0    201.0  \n",
            "5255  8.10  1082.5  4.60  1.850     24.5    299.0  \n",
            "\n",
            "[3881 rows x 26 columns]\n",
            "     Station_Code  Temp_Min  Temp_Max  DO_Min  DO_Max  PH_Min  PH_Max  \\\n",
            "0               6      28.0      29.0     1.7     2.1     7.2     7.9   \n",
            "1            1948      29.0      29.0     2.4     2.8     8.0     8.1   \n",
            "2            1949      28.0      29.0     2.1     2.4     7.9     8.0   \n",
            "6            1954      32.0      35.0     3.1     3.2     7.2     7.4   \n",
            "8            1956      31.0      31.0     4.1     5.2     7.6     8.0   \n",
            "..            ...       ...       ...     ...     ...     ...     ...   \n",
            "937          4820      28.0      28.0     6.0     6.0     6.6     6.6   \n",
            "938          4821      28.0      28.0     6.8     6.8     7.0     7.0   \n",
            "939          4824      29.0      29.0     5.9     5.9     7.4     7.4   \n",
            "940          4825      29.0      29.0     6.7     6.7     7.6     7.6   \n",
            "941          4826      29.0      29.0     6.6     6.6     7.9     7.9   \n",
            "\n",
            "     Cond_Min  Cond_Max  BCOD_Min  ...  TC_Max  year  Temperature    DO    PH  \\\n",
            "0      1291.0    1511.0       0.4  ...     2.0  2019         28.5  1.90  7.55   \n",
            "1      1380.0    1410.0       1.2  ...     2.0  2019         29.0  2.60  8.05   \n",
            "2      1470.0    1470.0       1.2  ...     6.0  2019         28.5  2.25  7.95   \n",
            "6      2680.0    4130.0       1.1  ...     2.0  2019         33.5  3.15  7.30   \n",
            "8       355.0    3118.0       0.8  ...     2.0  2019         31.0  4.65  7.80   \n",
            "..        ...       ...       ...  ...     ...   ...          ...   ...   ...   \n",
            "937     178.0     178.0       2.5  ...   110.0  2019         28.0  6.00  6.60   \n",
            "938     388.0     388.0       0.4  ...    11.0  2019         28.0  6.80  7.00   \n",
            "939    3360.0    3360.0       1.6  ...     4.0  2019         29.0  5.90  7.40   \n",
            "940    1958.0    1958.0       0.7  ...     4.0  2019         29.0  6.70  7.60   \n",
            "941     360.0     360.0       0.4  ...     6.0  2019         29.0  6.60  7.90   \n",
            "\n",
            "       Cond  BCOD    Nit    FC     TC  \n",
            "0    1401.0  0.40  0.430   2.0    2.0  \n",
            "1    1395.0  1.30  0.165   2.0    2.0  \n",
            "2    1470.0  1.50  0.255   2.0    4.0  \n",
            "6    3405.0  1.25  1.005   2.0    2.0  \n",
            "8    1736.5  1.00  0.155   2.0    2.0  \n",
            "..      ...   ...    ...   ...    ...  \n",
            "937   178.0  2.50  1.300  32.0  110.0  \n",
            "938   388.0  0.40  0.060   4.0   11.0  \n",
            "939  3360.0  1.60  2.010   2.0    4.0  \n",
            "940  1958.0  0.70  0.250   2.0    4.0  \n",
            "941   360.0  0.40  1.650   4.0    6.0  \n",
            "\n",
            "[239 rows x 26 columns]\n",
            "Empty DataFrame\n",
            "Columns: [Station_Code, Temp_Min, Temp_Max, DO_Min, DO_Max, PH_Min, PH_Max, Cond_Min, Cond_Max, BCOD_Min, BCOD_Max, Nit_Min, Nit_Max, FC_Min, FC_Max, TC_Min, TC_Max, year, Temperature, DO, PH, Cond, BCOD, Nit, FC, TC]\n",
            "Index: []\n",
            "\n",
            "[0 rows x 26 columns]\n"
          ]
        }
      ]
    },
    {
      "cell_type": "code",
      "source": [
        "wq_river_df = pd.DataFrame()\n",
        "wq_gw_df = pd.DataFrame()\n",
        "wq_sea_df = pd.DataFrame()\n",
        "\n",
        "wq_df_list = [wq_river_df, wq_gw_df, wq_sea_df]\n",
        "\n",
        "for i in range(len(wq_df_list)):\n",
        "  wq_df_list[i]['Station_Code'] = df_list[i]['Station_Code']\n",
        "  wq_df_list[i]['year'] = df_list[i]['year']\n",
        "\n",
        "  # PH Quality Rating\n",
        "  wq_df_list[i]['npH'] = df_list[i].PH.apply(lambda x: (100 if (8.5>=x>=7)  \n",
        "                                  else(80 if  (8.6>=x>=8.5) or (6.9>=x>=6.8) \n",
        "                                        else(60 if (8.8>=x>=8.6) or (6.8>=x>=6.7) \n",
        "                                            else(40 if (9>=x>=8.8) or (6.7>=x>=6.5)\n",
        "                                                else 0)))))\n",
        "\n",
        "\n",
        "\n",
        "  # Dissolved Oxygen Quality Rating\n",
        "  wq_df_list[i]['ndo'] = df_list[i].DO.apply(lambda x:(100 if (x>=6)  \n",
        "                                  else(80 if  (6>=x>=5.1) \n",
        "                                        else(60 if (5>=x>=4.1)\n",
        "                                            else(40 if (4>=x>=3) \n",
        "                                                else 0)))))\n",
        "\n",
        "  # Fecal Coliform Quality Rating\n",
        "  wq_df_list[i]['nFC'] = df_list[i].FC.apply(lambda x:(100 if (5>=x>=0)  \n",
        "                                  else(80 if  (50>=x>=5) \n",
        "                                        else(60 if (500>=x>=50)\n",
        "                                            else(40 if (10000>=x>=500) \n",
        "                                                else 0)))))\n",
        "  # Biological Dissolved Oxygen Quality Rating\n",
        "  wq_df_list[i]['nbdo'] = df_list[i].BCOD.apply(lambda x:(100 if (3>=x>=0)  \n",
        "                                  else(80 if  (6>=x>=3) \n",
        "                                        else(60 if (80>=x>=6)\n",
        "                                            else(40 if (125>=x>=80) \n",
        "                                                else 0)))))\n",
        "  # Electrical Conductivity Quality Rating\n",
        "  wq_df_list[i]['nec'] = df_list[i].Cond.apply(lambda x:(100 if (75>=x>=0)  \n",
        "                                  else(80 if  (150>=x>=75) \n",
        "                                        else(60 if (225>=x>=150)\n",
        "                                            else(40 if (300>=x>=225) \n",
        "                                                else 0)))))\n",
        "  # Nitrate Quality Rating\n",
        "  wq_df_list[i]['nna'] = df_list[i].Nit.apply(lambda x:(100 if (20>=x>=0)  \n",
        "                                  else(80 if  (50>=x>=20) \n",
        "                                        else(60 if (100>=x>=50)\n",
        "                                            else(40 if (200>=x>=100) \n",
        "                                                else 0)))))\n",
        "\n",
        "  print(wq_df_list[i])\n",
        "  print(wq_df_list[i].dtypes)"
      ],
      "metadata": {
        "id": "G1-D4WG_xpUF",
        "colab": {
          "base_uri": "https://localhost:8080/"
        },
        "outputId": "50a21938-6c25-4d7f-9418-58378e748204"
      },
      "execution_count": null,
      "outputs": [
        {
          "output_type": "stream",
          "name": "stdout",
          "text": [
            "      Station_Code  year  npH  ndo  nFC  nbdo  nec  nna\n",
            "0             1641  2013  100  100   40   100   40  100\n",
            "6             1081  2013  100  100   40   100   80  100\n",
            "7             1082  2013  100  100    0   100   80  100\n",
            "8             1083  2013  100  100   40   100   60  100\n",
            "10            1084  2013  100  100   40   100    0  100\n",
            "...            ...   ...  ...  ...  ...   ...  ...  ...\n",
            "5249          1315  2019  100  100   60    80    0  100\n",
            "5252          3330  2019  100  100   80   100    0  100\n",
            "5253          1910  2019  100  100   60    80    0  100\n",
            "5254          2173  2019  100  100   80    80    0  100\n",
            "5255          2175  2019  100  100   80    80    0  100\n",
            "\n",
            "[3881 rows x 8 columns]\n",
            "Station_Code    int64\n",
            "year            int32\n",
            "npH             int64\n",
            "ndo             int64\n",
            "nFC             int64\n",
            "nbdo            int64\n",
            "nec             int64\n",
            "nna             int64\n",
            "dtype: object\n",
            "     Station_Code  year  npH  ndo  nFC  nbdo  nec  nna\n",
            "0               6  2019  100    0  100   100    0  100\n",
            "1            1948  2019  100    0  100   100    0  100\n",
            "2            1949  2019  100    0  100   100    0  100\n",
            "6            1954  2019  100   40  100   100    0  100\n",
            "8            1956  2019  100   60  100   100    0  100\n",
            "..            ...   ...  ...  ...  ...   ...  ...  ...\n",
            "937          4820  2019   40  100   80   100   60  100\n",
            "938          4821  2019  100  100  100   100    0  100\n",
            "939          4824  2019  100   80  100   100    0  100\n",
            "940          4825  2019  100  100  100   100    0  100\n",
            "941          4826  2019  100  100  100   100    0  100\n",
            "\n",
            "[239 rows x 8 columns]\n",
            "Station_Code    int64\n",
            "year            int32\n",
            "npH             int64\n",
            "ndo             int64\n",
            "nFC             int64\n",
            "nbdo            int64\n",
            "nec             int64\n",
            "nna             int64\n",
            "dtype: object\n",
            "Empty DataFrame\n",
            "Columns: [Station_Code, year, npH, ndo, nFC, nbdo, nec, nna]\n",
            "Index: []\n",
            "Station_Code      int64\n",
            "year              int32\n",
            "npH             float64\n",
            "ndo             float64\n",
            "nFC             float64\n",
            "nbdo            float64\n",
            "nec             float64\n",
            "nna             float64\n",
            "dtype: object\n"
          ]
        }
      ]
    },
    {
      "cell_type": "code",
      "source": [
        "for i in range(len(wq_df_list)):\n",
        "  wq_df_list[i]['wph'] = wq_df_list[i].npH * 0.165\n",
        "  wq_df_list[i]['wdo'] = wq_df_list[i].ndo * 0.281\n",
        "  wq_df_list[i]['wbdo'] = wq_df_list[i].nbdo * 0.234\n",
        "  wq_df_list[i]['wec'] = wq_df_list[i].nec* 0.009\n",
        "  wq_df_list[i]['wna'] = wq_df_list[i].nna * 0.028\n",
        "  wq_df_list[i]['wco'] = wq_df_list[i].nec * 0.281\n",
        "  wq_df_list[i]['wqi'] = wq_df_list[i].wph + wq_df_list[i].wdo + wq_df_list[i].wbdo + wq_df_list[i].wec + wq_df_list[i].wna + wq_df_list[i].wco \n",
        "  \n",
        "\n",
        "  wq_df_list[i]['quality']= wq_df_list[i].wqi.apply(lambda x:('Excellent' if (25>=x>=0)  \n",
        "                                 else('Good' if  (50>=x>=26) \n",
        "                                      else('Poor' if (75>=x>=51)\n",
        "                                          else('Very Poor' if (100>=x>=76) \n",
        "                                              else 'Unsuitable')))))\n",
        "  print(wq_df_list[i].head())\n"
      ],
      "metadata": {
        "id": "BA9ykUYJJ01M",
        "colab": {
          "base_uri": "https://localhost:8080/"
        },
        "outputId": "07e371ca-22c5-4ebe-a0cf-f088b19033c4"
      },
      "execution_count": null,
      "outputs": [
        {
          "output_type": "stream",
          "name": "stdout",
          "text": [
            "    Station_Code  year  npH  ndo  nFC  nbdo  nec  nna   wph   wdo  wbdo   wec  \\\n",
            "0           1641  2013  100  100   40   100   40  100  16.5  28.1  23.4  0.36   \n",
            "6           1081  2013  100  100   40   100   80  100  16.5  28.1  23.4  0.72   \n",
            "7           1082  2013  100  100    0   100   80  100  16.5  28.1  23.4  0.72   \n",
            "8           1083  2013  100  100   40   100   60  100  16.5  28.1  23.4  0.54   \n",
            "10          1084  2013  100  100   40   100    0  100  16.5  28.1  23.4  0.00   \n",
            "\n",
            "    wna    wco   wqi    quality  \n",
            "0   2.8  11.24  82.4  Very Poor  \n",
            "6   2.8  22.48  94.0  Very Poor  \n",
            "7   2.8  22.48  94.0  Very Poor  \n",
            "8   2.8  16.86  88.2  Very Poor  \n",
            "10  2.8   0.00  70.8       Poor  \n",
            "   Station_Code  year  npH  ndo  nFC  nbdo  nec  nna   wph    wdo  wbdo  wec  \\\n",
            "0             6  2019  100    0  100   100    0  100  16.5   0.00  23.4  0.0   \n",
            "1          1948  2019  100    0  100   100    0  100  16.5   0.00  23.4  0.0   \n",
            "2          1949  2019  100    0  100   100    0  100  16.5   0.00  23.4  0.0   \n",
            "6          1954  2019  100   40  100   100    0  100  16.5  11.24  23.4  0.0   \n",
            "8          1956  2019  100   60  100   100    0  100  16.5  16.86  23.4  0.0   \n",
            "\n",
            "   wna  wco    wqi quality  \n",
            "0  2.8  0.0  42.70    Good  \n",
            "1  2.8  0.0  42.70    Good  \n",
            "2  2.8  0.0  42.70    Good  \n",
            "6  2.8  0.0  53.94    Poor  \n",
            "8  2.8  0.0  59.56    Poor  \n",
            "Empty DataFrame\n",
            "Columns: [Station_Code, year, npH, ndo, nFC, nbdo, nec, nna, wph, wdo, wbdo, wec, wna, wco, wqi, quality]\n",
            "Index: []\n"
          ]
        }
      ]
    },
    {
      "cell_type": "code",
      "source": [
        "# years = [2019, 2018, 2017, 2016]\n",
        "\n",
        "# path = \"/content/drive/MyDrive/Water_Quality_Data/DATA/EXCEL_DATA/Rivers/\"\n",
        "\n",
        "# raw_df_list = []\n",
        "\n",
        "# for year in years:\n",
        "#     files_read = 0\n",
        "#     files = os.listdir(path+str(year)+\"/\")\n",
        "#     for file in files:\n",
        "#         file_path = path+str(year)+\"/\"+file\n",
        "#         if pathlib.Path(file_path).suffix == \".xlsx\":\n",
        "#             files_read+=1\n",
        "#             # print(\"reading : \", file)\n",
        "#             raw_df = pd.read_excel(file_path)\n",
        "#             shape = raw_df.shape\n",
        "#             # if(shape[1] != 22 ):\n",
        "#                 # print(\"No of columns didnt match specification in file : \", file )\n",
        "#             # break\n",
        "#             raw_df = raw_df.drop(['Unnamed: 0',1,2], axis = 1 )\n",
        "#             if 19 in raw_df.columns:\n",
        "#                 raw_df = raw_df.drop([19], axis = 1 )\n",
        "#             if 20 in raw_df.columns:\n",
        "#                 raw_df = raw_df.drop([20], axis = 1 )\n",
        "#             # instead of dropping rows 19 and 20 delete them only if they are present\n",
        "#             raw_df = raw_df.drop([1,2], axis =0 )\n",
        "#             raw_df = raw_df.drop([0], axis =0 )\n",
        "#             raw_df.index=range(0,len(raw_df))\n",
        "#             raw_df['year'] = year\n",
        "#             # print(raw_df)\n",
        "#             raw_df_list.append(raw_df)\n",
        "#         # print(\"files read --- year : \", files_read, year)\n",
        "\n",
        "# merge_df  = pd.concat(raw_df_list, ignore_index=True)\n",
        "    \n",
        "\n",
        "# merge_df.columns = ['Station_Code', 'Temp_Min', 'Temp_Max', 'DO_Min', 'DO_Max', 'PH_Min', 'PH_Max', 'Cond_Min', 'Cond_Max', 'BCOD_Min', 'BCOD_Max', 'Nit_Min', 'Nit_Max', 'FC_Min', 'FC_Max', 'TC_Min', 'TC_Max', 'year']\n",
        "\n",
        "# # merge_df.to_excel(\"merge_op.xlsx\")\n",
        "\n",
        "\n",
        "\n",
        "# def isnumber(x):\n",
        "#     try:\n",
        "#         float(x)\n",
        "#         return True\n",
        "#     except:\n",
        "#         return False\n",
        "\n",
        "# merge_df = merge_df[merge_df.applymap(isnumber)]\n",
        "# merge_df = merge_df.dropna()\n",
        "\n",
        "\n",
        "# # for column in merge_df.columns:\n",
        "# #     merge_df[column] = merge_df[column].str.replace(r'\\D' , np.NaN)\n",
        "\n",
        "# # print(merge_df['Station_Code'][2684])\n",
        "\n",
        "# # print(len(np.unique(merge_df['Station_Code'])))\n",
        "\n",
        "# merge_df = merge_df.astype('float64')\n",
        "# merge_df = merge_df.astype({'Station_Code':'int', 'year':'int'})\n",
        "\n",
        "# print(merge_df.info())\n"
      ],
      "metadata": {
        "id": "o-uMmf5oQvVM"
      },
      "execution_count": null,
      "outputs": []
    },
    {
      "cell_type": "code",
      "source": [
        "# merge_df['Temperature']= merge_df.iloc[:,1:3].mean(axis=1)\n",
        "# merge_df['DO']= merge_df.iloc[:,3:5].mean(axis=1)\n",
        "# merge_df['PH']= merge_df.iloc[:,5:7].mean(axis=1)\n",
        "# merge_df['Cond']= merge_df.iloc[:,7:9].mean(axis=1)\n",
        "# merge_df['BCOD']= merge_df.iloc[:,9:11].mean(axis=1)\n",
        "# merge_df['Nit']= merge_df.iloc[:,11:13].mean(axis=1)\n",
        "# merge_df['FC']= merge_df.iloc[:,13:15].mean(axis=1)\n",
        "# merge_df['TC']= merge_df.iloc[:,15:17].mean(axis=1)\n",
        "\n",
        "# merge_df.info()"
      ],
      "metadata": {
        "id": "MOWOuMkRS09j"
      },
      "execution_count": null,
      "outputs": []
    },
    {
      "cell_type": "code",
      "source": [
        "# wq_df = pd.DataFrame()\n",
        "# wq_df['Station_Code'] = merge_df['Station_Code']\n"
      ],
      "metadata": {
        "id": "qPIW55WKUuRi"
      },
      "execution_count": null,
      "outputs": []
    },
    {
      "cell_type": "code",
      "source": [
        "# wq_df['year'] = merge_df['year']"
      ],
      "metadata": {
        "id": "Z5vvV4K4gLEQ"
      },
      "execution_count": null,
      "outputs": []
    },
    {
      "cell_type": "code",
      "source": [
        "# # PH Quality Rating\n",
        "# wq_df['npH']=merge_df.PH.apply(lambda x: (100 if (8.5>=x>=7)  \n",
        "#                                  else(80 if  (8.6>=x>=8.5) or (6.9>=x>=6.8) \n",
        "#                                       else(60 if (8.8>=x>=8.6) or (6.8>=x>=6.7) \n",
        "#                                           else(40 if (9>=x>=8.8) or (6.7>=x>=6.5)\n",
        "#                                               else 0)))))"
      ],
      "metadata": {
        "id": "uthpVS-JVki7"
      },
      "execution_count": null,
      "outputs": []
    },
    {
      "cell_type": "code",
      "source": [
        "# # Dissolved Oxygen Quality Rating\n",
        "# wq_df['ndo']=merge_df.DO.apply(lambda x:(100 if (x>=6)  \n",
        "#                                  else(80 if  (6>=x>=5.1) \n",
        "#                                       else(60 if (5>=x>=4.1)\n",
        "#                                           else(40 if (4>=x>=3) \n",
        "#                                               else 0)))))"
      ],
      "metadata": {
        "id": "B-ee0QV3Vu7A"
      },
      "execution_count": null,
      "outputs": []
    },
    {
      "cell_type": "code",
      "source": [
        "# # Fecal Coliform Quality Rating\n",
        "# wq_df['nFC'] = merge_df.FC.apply(lambda x:(100 if (5>=x>=0)  \n",
        "#                                  else(80 if  (50>=x>=5) \n",
        "#                                       else(60 if (500>=x>=50)\n",
        "#                                           else(40 if (10000>=x>=500) \n",
        "#                                               else 0)))))"
      ],
      "metadata": {
        "id": "2oxVLswfWhFq"
      },
      "execution_count": null,
      "outputs": []
    },
    {
      "cell_type": "code",
      "source": [
        "# # Biological Dissolved Oxygen Quality Rating\n",
        "# wq_df['nbdo'] = merge_df.BCOD.apply(lambda x:(100 if (3>=x>=0)  \n",
        "#                                  else(80 if  (6>=x>=3) \n",
        "#                                       else(60 if (80>=x>=6)\n",
        "#                                           else(40 if (125>=x>=80) \n",
        "#                                               else 0)))))"
      ],
      "metadata": {
        "id": "Fu8KoU2zXKYD"
      },
      "execution_count": null,
      "outputs": []
    },
    {
      "cell_type": "code",
      "source": [
        "# # Electrical Conductivity Quality Rating\n",
        "# wq_df['nec'] = merge_df.Cond.apply(lambda x:(100 if (75>=x>=0)  \n",
        "#                                  else(80 if  (150>=x>=75) \n",
        "#                                       else(60 if (225>=x>=150)\n",
        "#                                           else(40 if (300>=x>=225) \n",
        "#                                               else 0)))))"
      ],
      "metadata": {
        "id": "gCq2OxqaXLF6"
      },
      "execution_count": null,
      "outputs": []
    },
    {
      "cell_type": "code",
      "source": [
        "# # Nitrate Quality Rating\n",
        "# wq_df['nna'] = merge_df.Nit.apply(lambda x:(100 if (20>=x>=0)  \n",
        "#                                  else(80 if  (50>=x>=20) \n",
        "#                                       else(60 if (100>=x>=50)\n",
        "#                                           else(40 if (200>=x>=100) \n",
        "#                                               else 0)))))\n",
        "\n",
        "# wq_df.head()\n",
        "# wq_df.dtypes"
      ],
      "metadata": {
        "id": "0quLusrsXN9e"
      },
      "execution_count": null,
      "outputs": []
    },
    {
      "cell_type": "code",
      "source": [
        "# wq_df['wph'] = wq_df.npH * 0.165\n",
        "# wq_df['wdo'] = wq_df.ndo * 0.281\n",
        "# wq_df['wbdo'] = wq_df.nbdo * 0.234\n",
        "# wq_df['wec'] = wq_df.nec* 0.009\n",
        "# wq_df['wna'] = wq_df.nna * 0.028\n",
        "# wq_df['wco'] = wq_df.nec * 0.281\n",
        "# wq_df['wqi'] = wq_df.wph + wq_df.wdo + wq_df.wbdo + wq_df.wec + wq_df.wna + wq_df.wco \n",
        "# wq_df"
      ],
      "metadata": {
        "id": "Y_XP39KAXT6k"
      },
      "execution_count": null,
      "outputs": []
    },
    {
      "cell_type": "code",
      "source": [
        "# wq_df['quality']=wq_df.wqi.apply(lambda x:('Excellent' if (25>=x>=0)  \n",
        "#                                  else('Good' if  (50>=x>=26) \n",
        "#                                       else('Poor' if (75>=x>=51)\n",
        "#                                           else('Very Poor' if (100>=x>=76) \n",
        "#                                               else 'Unsuitable')))))\n",
        "# wq_df\n"
      ],
      "metadata": {
        "id": "ETErqkQbXXfs"
      },
      "execution_count": null,
      "outputs": []
    },
    {
      "cell_type": "markdown",
      "source": [
        "River LSTM Prediction"
      ],
      "metadata": {
        "id": "mNUwnDuc_Nia"
      }
    },
    {
      "cell_type": "code",
      "source": [
        "river_df = pd.DataFrame()\n",
        "river_df['Station_Code'] = wq_df_list[0]['Station_Code']\n",
        "river_df['year'] = wq_df_list[0]['year']\n",
        "river_df['wqi'] = wq_df_list[0]['wqi']\n",
        "\n",
        "river_df.head()"
      ],
      "metadata": {
        "id": "4inRtcspccBB",
        "colab": {
          "base_uri": "https://localhost:8080/",
          "height": 206
        },
        "outputId": "1a1517ba-3a30-411a-9d45-0db975aab188"
      },
      "execution_count": null,
      "outputs": [
        {
          "output_type": "execute_result",
          "data": {
            "text/plain": [
              "    Station_Code  year   wqi\n",
              "0           1641  2013  82.4\n",
              "6           1081  2013  94.0\n",
              "7           1082  2013  94.0\n",
              "8           1083  2013  88.2\n",
              "10          1084  2013  70.8"
            ],
            "text/html": [
              "\n",
              "  <div id=\"df-52802339-250c-4b43-a49d-5ab79d2898b7\">\n",
              "    <div class=\"colab-df-container\">\n",
              "      <div>\n",
              "<style scoped>\n",
              "    .dataframe tbody tr th:only-of-type {\n",
              "        vertical-align: middle;\n",
              "    }\n",
              "\n",
              "    .dataframe tbody tr th {\n",
              "        vertical-align: top;\n",
              "    }\n",
              "\n",
              "    .dataframe thead th {\n",
              "        text-align: right;\n",
              "    }\n",
              "</style>\n",
              "<table border=\"1\" class=\"dataframe\">\n",
              "  <thead>\n",
              "    <tr style=\"text-align: right;\">\n",
              "      <th></th>\n",
              "      <th>Station_Code</th>\n",
              "      <th>year</th>\n",
              "      <th>wqi</th>\n",
              "    </tr>\n",
              "  </thead>\n",
              "  <tbody>\n",
              "    <tr>\n",
              "      <th>0</th>\n",
              "      <td>1641</td>\n",
              "      <td>2013</td>\n",
              "      <td>82.4</td>\n",
              "    </tr>\n",
              "    <tr>\n",
              "      <th>6</th>\n",
              "      <td>1081</td>\n",
              "      <td>2013</td>\n",
              "      <td>94.0</td>\n",
              "    </tr>\n",
              "    <tr>\n",
              "      <th>7</th>\n",
              "      <td>1082</td>\n",
              "      <td>2013</td>\n",
              "      <td>94.0</td>\n",
              "    </tr>\n",
              "    <tr>\n",
              "      <th>8</th>\n",
              "      <td>1083</td>\n",
              "      <td>2013</td>\n",
              "      <td>88.2</td>\n",
              "    </tr>\n",
              "    <tr>\n",
              "      <th>10</th>\n",
              "      <td>1084</td>\n",
              "      <td>2013</td>\n",
              "      <td>70.8</td>\n",
              "    </tr>\n",
              "  </tbody>\n",
              "</table>\n",
              "</div>\n",
              "      <button class=\"colab-df-convert\" onclick=\"convertToInteractive('df-52802339-250c-4b43-a49d-5ab79d2898b7')\"\n",
              "              title=\"Convert this dataframe to an interactive table.\"\n",
              "              style=\"display:none;\">\n",
              "        \n",
              "  <svg xmlns=\"http://www.w3.org/2000/svg\" height=\"24px\"viewBox=\"0 0 24 24\"\n",
              "       width=\"24px\">\n",
              "    <path d=\"M0 0h24v24H0V0z\" fill=\"none\"/>\n",
              "    <path d=\"M18.56 5.44l.94 2.06.94-2.06 2.06-.94-2.06-.94-.94-2.06-.94 2.06-2.06.94zm-11 1L8.5 8.5l.94-2.06 2.06-.94-2.06-.94L8.5 2.5l-.94 2.06-2.06.94zm10 10l.94 2.06.94-2.06 2.06-.94-2.06-.94-.94-2.06-.94 2.06-2.06.94z\"/><path d=\"M17.41 7.96l-1.37-1.37c-.4-.4-.92-.59-1.43-.59-.52 0-1.04.2-1.43.59L10.3 9.45l-7.72 7.72c-.78.78-.78 2.05 0 2.83L4 21.41c.39.39.9.59 1.41.59.51 0 1.02-.2 1.41-.59l7.78-7.78 2.81-2.81c.8-.78.8-2.07 0-2.86zM5.41 20L4 18.59l7.72-7.72 1.47 1.35L5.41 20z\"/>\n",
              "  </svg>\n",
              "      </button>\n",
              "      \n",
              "  <style>\n",
              "    .colab-df-container {\n",
              "      display:flex;\n",
              "      flex-wrap:wrap;\n",
              "      gap: 12px;\n",
              "    }\n",
              "\n",
              "    .colab-df-convert {\n",
              "      background-color: #E8F0FE;\n",
              "      border: none;\n",
              "      border-radius: 50%;\n",
              "      cursor: pointer;\n",
              "      display: none;\n",
              "      fill: #1967D2;\n",
              "      height: 32px;\n",
              "      padding: 0 0 0 0;\n",
              "      width: 32px;\n",
              "    }\n",
              "\n",
              "    .colab-df-convert:hover {\n",
              "      background-color: #E2EBFA;\n",
              "      box-shadow: 0px 1px 2px rgba(60, 64, 67, 0.3), 0px 1px 3px 1px rgba(60, 64, 67, 0.15);\n",
              "      fill: #174EA6;\n",
              "    }\n",
              "\n",
              "    [theme=dark] .colab-df-convert {\n",
              "      background-color: #3B4455;\n",
              "      fill: #D2E3FC;\n",
              "    }\n",
              "\n",
              "    [theme=dark] .colab-df-convert:hover {\n",
              "      background-color: #434B5C;\n",
              "      box-shadow: 0px 1px 3px 1px rgba(0, 0, 0, 0.15);\n",
              "      filter: drop-shadow(0px 1px 2px rgba(0, 0, 0, 0.3));\n",
              "      fill: #FFFFFF;\n",
              "    }\n",
              "  </style>\n",
              "\n",
              "      <script>\n",
              "        const buttonEl =\n",
              "          document.querySelector('#df-52802339-250c-4b43-a49d-5ab79d2898b7 button.colab-df-convert');\n",
              "        buttonEl.style.display =\n",
              "          google.colab.kernel.accessAllowed ? 'block' : 'none';\n",
              "\n",
              "        async function convertToInteractive(key) {\n",
              "          const element = document.querySelector('#df-52802339-250c-4b43-a49d-5ab79d2898b7');\n",
              "          const dataTable =\n",
              "            await google.colab.kernel.invokeFunction('convertToInteractive',\n",
              "                                                     [key], {});\n",
              "          if (!dataTable) return;\n",
              "\n",
              "          const docLinkHtml = 'Like what you see? Visit the ' +\n",
              "            '<a target=\"_blank\" href=https://colab.research.google.com/notebooks/data_table.ipynb>data table notebook</a>'\n",
              "            + ' to learn more about interactive tables.';\n",
              "          element.innerHTML = '';\n",
              "          dataTable['output_type'] = 'display_data';\n",
              "          await google.colab.output.renderOutput(dataTable, element);\n",
              "          const docLink = document.createElement('div');\n",
              "          docLink.innerHTML = docLinkHtml;\n",
              "          element.appendChild(docLink);\n",
              "        }\n",
              "      </script>\n",
              "    </div>\n",
              "  </div>\n",
              "  "
            ]
          },
          "metadata": {},
          "execution_count": 23
        }
      ]
    },
    {
      "cell_type": "code",
      "source": [
        "from keras.preprocessing.sequence import pad_sequences\n",
        "from keras.models import Sequential\n",
        "from keras.layers import Dense\n",
        "from keras.layers import LSTM\n",
        "from keras.layers import Embedding\n",
        "import time"
      ],
      "metadata": {
        "id": "lS0OUGTonsO5"
      },
      "execution_count": null,
      "outputs": []
    },
    {
      "cell_type": "code",
      "source": [
        "river_station_codes = sorted(list(set(river_df['Station_Code'].values)))"
      ],
      "metadata": {
        "id": "sAZ89KbGoU7R"
      },
      "execution_count": null,
      "outputs": []
    },
    {
      "cell_type": "code",
      "source": [
        "dict1 = {}\n",
        "\n",
        "for i in river_station_codes :\n",
        "  dict1[i] = []\n",
        "\n",
        "for i in river_df.index :\n",
        "  station_code = river_df[\"Station_Code\"][i]\n",
        "  year = river_df[\"year\"][i]\n",
        "  wqi = river_df[\"wqi\"][i]\n",
        "\n",
        "  dict1[station_code].append([year,wqi])"
      ],
      "metadata": {
        "id": "ACmo7OI5pAJ5"
      },
      "execution_count": null,
      "outputs": []
    },
    {
      "cell_type": "code",
      "source": [
        "print(dict1[1100])"
      ],
      "metadata": {
        "id": "AcZgZwg0ppUS",
        "colab": {
          "base_uri": "https://localhost:8080/"
        },
        "outputId": "486eda6f-d695-4249-968d-5678e71b646b"
      },
      "execution_count": null,
      "outputs": [
        {
          "output_type": "stream",
          "name": "stdout",
          "text": [
            "[[2019, 70.8]]\n"
          ]
        }
      ]
    },
    {
      "cell_type": "code",
      "source": [
        "river_seq = list()\n",
        "for key,values in dict1.items():\n",
        "  temp = [key]\n",
        "  count = 0\n",
        "  values = sorted(values)\n",
        "  for v in values:\n",
        "    if count > 0 :\n",
        "      temp.pop()\n",
        "    temp.append(v[0])\n",
        "    temp.append(v[1])\n",
        "    river_seq.append(temp.copy())\n",
        "    #print(temp)\n",
        "    count = count + 1\n",
        "    \n"
      ],
      "metadata": {
        "id": "-KjGFMTDrtlk"
      },
      "execution_count": null,
      "outputs": []
    },
    {
      "cell_type": "code",
      "source": [
        "river_seq[:10]\n",
        "#1,2019,70.8\n",
        "#1,2019,2018,70.8\n",
        "#1,2019,2018,2016,61.44"
      ],
      "metadata": {
        "id": "_Wewiphz01Zt",
        "colab": {
          "base_uri": "https://localhost:8080/"
        },
        "outputId": "0c6f572e-318d-4af9-c3c1-e345ca346c4c"
      },
      "execution_count": null,
      "outputs": [
        {
          "output_type": "execute_result",
          "data": {
            "text/plain": [
              "[[1, 2016, 61.44],\n",
              " [1, 2016, 2018, 70.8],\n",
              " [1, 2016, 2018, 2019, 70.8],\n",
              " [2, 2016, 50.199999999999996],\n",
              " [2, 2016, 2018, 19.3],\n",
              " [4, 2013, 70.8],\n",
              " [4, 2013, 2016, 70.8],\n",
              " [4, 2013, 2016, 2017, 70.8],\n",
              " [4, 2013, 2016, 2017, 2018, 70.8],\n",
              " [4, 2013, 2016, 2017, 2018, 2019, 70.8]]"
            ]
          },
          "metadata": {},
          "execution_count": 29
        }
      ]
    },
    {
      "cell_type": "code",
      "source": [
        "max_lengh = max([len(i) for i in river_seq])"
      ],
      "metadata": {
        "id": "sZdhHQYjytyM"
      },
      "execution_count": null,
      "outputs": []
    },
    {
      "cell_type": "code",
      "source": [
        "river_seq = np.array(river_seq)\n",
        "river_seq.shape"
      ],
      "metadata": {
        "id": "bVZ6KjVwybGa",
        "colab": {
          "base_uri": "https://localhost:8080/"
        },
        "outputId": "f618a266-7ddd-411a-aa91-bcec65ed239b"
      },
      "execution_count": null,
      "outputs": [
        {
          "output_type": "stream",
          "name": "stderr",
          "text": [
            "/usr/local/lib/python3.7/dist-packages/ipykernel_launcher.py:1: VisibleDeprecationWarning: Creating an ndarray from ragged nested sequences (which is a list-or-tuple of lists-or-tuples-or ndarrays with different lengths or shapes) is deprecated. If you meant to do this, you must specify 'dtype=object' when creating the ndarray.\n",
            "  \"\"\"Entry point for launching an IPython kernel.\n"
          ]
        },
        {
          "output_type": "execute_result",
          "data": {
            "text/plain": [
              "(3881,)"
            ]
          },
          "metadata": {},
          "execution_count": 31
        }
      ]
    },
    {
      "cell_type": "code",
      "source": [
        "river_seq = pad_sequences(river_seq,maxlen = max_lengh,padding = 'pre')"
      ],
      "metadata": {
        "id": "WOVq683-ypj2"
      },
      "execution_count": null,
      "outputs": []
    },
    {
      "cell_type": "code",
      "source": [
        "river_seq[0:10]"
      ],
      "metadata": {
        "id": "FuKb2N-qzMUE",
        "colab": {
          "base_uri": "https://localhost:8080/"
        },
        "outputId": "8e28d177-e071-44cc-d359-1c66eef3b240"
      },
      "execution_count": null,
      "outputs": [
        {
          "output_type": "execute_result",
          "data": {
            "text/plain": [
              "array([[   0,    0,    0,    0,    0,    0,    0,    1, 2016,   61],\n",
              "       [   0,    0,    0,    0,    0,    0,    1, 2016, 2018,   70],\n",
              "       [   0,    0,    0,    0,    0,    1, 2016, 2018, 2019,   70],\n",
              "       [   0,    0,    0,    0,    0,    0,    0,    2, 2016,   50],\n",
              "       [   0,    0,    0,    0,    0,    0,    2, 2016, 2018,   19],\n",
              "       [   0,    0,    0,    0,    0,    0,    0,    4, 2013,   70],\n",
              "       [   0,    0,    0,    0,    0,    0,    4, 2013, 2016,   70],\n",
              "       [   0,    0,    0,    0,    0,    4, 2013, 2016, 2017,   70],\n",
              "       [   0,    0,    0,    0,    4, 2013, 2016, 2017, 2018,   70],\n",
              "       [   0,    0,    0,    4, 2013, 2016, 2017, 2018, 2019,   70]],\n",
              "      dtype=int32)"
            ]
          },
          "metadata": {},
          "execution_count": 33
        }
      ]
    },
    {
      "cell_type": "code",
      "source": [
        "X,y = river_seq[:,:-1],river_seq[:,-1]\n"
      ],
      "metadata": {
        "id": "o0JZVs8NzNuI"
      },
      "execution_count": null,
      "outputs": []
    },
    {
      "cell_type": "code",
      "source": [
        "y"
      ],
      "metadata": {
        "id": "4NMZazvJ5bTK",
        "colab": {
          "base_uri": "https://localhost:8080/"
        },
        "outputId": "2576f411-4d39-4f56-803d-aaf5b02cb0fb"
      },
      "execution_count": null,
      "outputs": [
        {
          "output_type": "execute_result",
          "data": {
            "text/plain": [
              "array([61, 70, 70, ..., 66, 70, 88], dtype=int32)"
            ]
          },
          "metadata": {},
          "execution_count": 35
        }
      ]
    },
    {
      "cell_type": "code",
      "source": [
        "%matplotlib inline\n",
        "import warnings\n",
        "warnings.filterwarnings(\"ignore\")\n",
        "import sqlite3\n",
        "import pandas as pd\n",
        "import numpy as np\n",
        "import nltk\n",
        "import string\n",
        "import matplotlib.pyplot as plt\n",
        "import seaborn as sns\n",
        "from numpy import array\n",
        "from keras.preprocessing.text import Tokenizer\n",
        "from keras.preprocessing.sequence import pad_sequences\n",
        "from keras.models import Sequential\n",
        "from keras.layers import Dense\n",
        "from keras.layers import LSTM\n",
        "from keras.layers import Embedding\n",
        "import time\n",
        "import random \n",
        "\n",
        "from random import randint\n",
        "from pickle import load\n",
        "from keras.models import load_model\n",
        "\n",
        "import re\n",
        "# Tutorial about Python regular expressions: https://pymotw.com/2/re/\n",
        "import string\n",
        "from nltk.corpus import stopwords\n",
        "from nltk.stem import PorterStemmer\n",
        "from nltk.stem.wordnet import WordNetLemmatizer\n",
        "from gensim.models import Word2Vec\n",
        "from bs4 import BeautifulSoup\n",
        "from gensim.models import KeyedVectors\n",
        "import pickle\n",
        "from tqdm import tqdm\n",
        "from sklearn.model_selection import train_test_split"
      ],
      "metadata": {
        "id": "D_2o9tqS64ET"
      },
      "execution_count": null,
      "outputs": []
    },
    {
      "cell_type": "code",
      "source": [
        "import pickle\n",
        "from sklearn.feature_extraction.text import CountVectorizer\n",
        "\n",
        "from keras.preprocessing.text import Tokenizer\n",
        "from keras.models import Sequential\n",
        "from keras.preprocessing.sequence import pad_sequences\n",
        "from keras.layers import Dense, Input, LSTM, Embedding, Dropout,Bidirectional,Activation, BatchNormalization,Flatten,Multiply\n",
        "from keras.layers.core import Lambda\n",
        "from keras.layers.merge import concatenate, add, multiply\n",
        "from keras.models import Model\n",
        "\n",
        "from keras.callbacks import EarlyStopping, ModelCheckpoint\n",
        "from keras.layers.noise import GaussianNoise\n",
        "from nltk.stem.wordnet import WordNetLemmatizer\n",
        "from nltk.corpus import stopwords\n",
        "from tqdm import tqdm\n",
        "from keras.preprocessing import text\n",
        "from keras.utils import np_utils\n",
        "from gensim.models import Word2Vec, KeyedVectors \n",
        "import gensim"
      ],
      "metadata": {
        "id": "1Yzca_M87_Iu"
      },
      "execution_count": null,
      "outputs": []
    },
    {
      "cell_type": "code",
      "source": [
        "n_steps = 9\n",
        "# split into samples\n",
        "#X, y = split_sequence(raw_seq, n_steps)\n",
        "# reshape from [samples, timesteps] into [samples, timesteps, features]\n",
        "n_features = 1\n",
        "X = X.reshape((X.shape[0], X.shape[1], n_features))"
      ],
      "metadata": {
        "id": "PMld-Wpg8_eZ"
      },
      "execution_count": null,
      "outputs": []
    },
    {
      "cell_type": "code",
      "source": [
        "# define model\n",
        "model = Sequential()\n",
        "#model.add(Embedding(vocab_size, 50, input_length=max_length-1))\n",
        "#model.add(Dense(X.shape[0], activation='softmax'))\n",
        "#odel = Sequential()\n",
        "model.add(LSTM(50, activation='relu', input_shape=(n_steps, n_features)))\n",
        "model.add(Dense(1))\n",
        "model.compile(optimizer='adam', loss='mse')\n",
        "# fit model\n",
        "model.fit(X, y, epochs=200, verbose=2)"
      ],
      "metadata": {
        "id": "-9T2k_tP5b4S",
        "colab": {
          "base_uri": "https://localhost:8080/"
        },
        "outputId": "fd0cb904-bb0c-4e76-8571-230be5044216"
      },
      "execution_count": null,
      "outputs": [
        {
          "output_type": "stream",
          "name": "stdout",
          "text": [
            "Epoch 1/200\n",
            "122/122 - 2s - loss: 16940.1191 - 2s/epoch - 17ms/step\n",
            "Epoch 2/200\n",
            "122/122 - 1s - loss: 3649.6008 - 668ms/epoch - 5ms/step\n",
            "Epoch 3/200\n",
            "122/122 - 1s - loss: 2020.4590 - 626ms/epoch - 5ms/step\n",
            "Epoch 4/200\n",
            "122/122 - 1s - loss: 703.0344 - 637ms/epoch - 5ms/step\n",
            "Epoch 5/200\n",
            "122/122 - 1s - loss: 339.6914 - 616ms/epoch - 5ms/step\n",
            "Epoch 6/200\n",
            "122/122 - 1s - loss: 380.5460 - 587ms/epoch - 5ms/step\n",
            "Epoch 7/200\n",
            "122/122 - 1s - loss: 317.2396 - 600ms/epoch - 5ms/step\n",
            "Epoch 8/200\n",
            "122/122 - 1s - loss: 546.6534 - 578ms/epoch - 5ms/step\n",
            "Epoch 9/200\n",
            "122/122 - 1s - loss: 513.6600 - 604ms/epoch - 5ms/step\n",
            "Epoch 10/200\n",
            "122/122 - 1s - loss: 411.0171 - 582ms/epoch - 5ms/step\n",
            "Epoch 11/200\n",
            "122/122 - 1s - loss: 249.3879 - 620ms/epoch - 5ms/step\n",
            "Epoch 12/200\n",
            "122/122 - 1s - loss: 234.7014 - 650ms/epoch - 5ms/step\n",
            "Epoch 13/200\n",
            "122/122 - 1s - loss: 299.2060 - 618ms/epoch - 5ms/step\n",
            "Epoch 14/200\n",
            "122/122 - 1s - loss: 244.2888 - 622ms/epoch - 5ms/step\n",
            "Epoch 15/200\n",
            "122/122 - 1s - loss: 219.6022 - 614ms/epoch - 5ms/step\n",
            "Epoch 16/200\n",
            "122/122 - 1s - loss: 221.1214 - 587ms/epoch - 5ms/step\n",
            "Epoch 17/200\n",
            "122/122 - 1s - loss: 217.5631 - 652ms/epoch - 5ms/step\n",
            "Epoch 18/200\n",
            "122/122 - 1s - loss: 215.8878 - 618ms/epoch - 5ms/step\n",
            "Epoch 19/200\n",
            "122/122 - 1s - loss: 285.6234 - 662ms/epoch - 5ms/step\n",
            "Epoch 20/200\n",
            "122/122 - 1s - loss: 211.4754 - 624ms/epoch - 5ms/step\n",
            "Epoch 21/200\n",
            "122/122 - 1s - loss: 212.0261 - 646ms/epoch - 5ms/step\n",
            "Epoch 22/200\n",
            "122/122 - 1s - loss: 218.6217 - 611ms/epoch - 5ms/step\n",
            "Epoch 23/200\n",
            "122/122 - 1s - loss: 235.1138 - 627ms/epoch - 5ms/step\n",
            "Epoch 24/200\n",
            "122/122 - 1s - loss: 250.6273 - 634ms/epoch - 5ms/step\n",
            "Epoch 25/200\n",
            "122/122 - 1s - loss: 851.4319 - 654ms/epoch - 5ms/step\n",
            "Epoch 26/200\n",
            "122/122 - 1s - loss: 242.7961 - 613ms/epoch - 5ms/step\n",
            "Epoch 27/200\n",
            "122/122 - 1s - loss: 228.8700 - 619ms/epoch - 5ms/step\n",
            "Epoch 28/200\n",
            "122/122 - 1s - loss: 275.8323 - 646ms/epoch - 5ms/step\n",
            "Epoch 29/200\n",
            "122/122 - 1s - loss: 262.5877 - 706ms/epoch - 6ms/step\n",
            "Epoch 30/200\n",
            "122/122 - 1s - loss: 242.2104 - 623ms/epoch - 5ms/step\n",
            "Epoch 31/200\n",
            "122/122 - 1s - loss: 219.9939 - 626ms/epoch - 5ms/step\n",
            "Epoch 32/200\n",
            "122/122 - 1s - loss: 214.0623 - 591ms/epoch - 5ms/step\n",
            "Epoch 33/200\n",
            "122/122 - 1s - loss: 209.0842 - 608ms/epoch - 5ms/step\n",
            "Epoch 34/200\n",
            "122/122 - 1s - loss: 205.7919 - 598ms/epoch - 5ms/step\n",
            "Epoch 35/200\n",
            "122/122 - 1s - loss: 201.8873 - 610ms/epoch - 5ms/step\n",
            "Epoch 36/200\n",
            "122/122 - 1s - loss: 205.3422 - 630ms/epoch - 5ms/step\n",
            "Epoch 37/200\n",
            "122/122 - 1s - loss: 203.2963 - 584ms/epoch - 5ms/step\n",
            "Epoch 38/200\n",
            "122/122 - 1s - loss: 202.6738 - 607ms/epoch - 5ms/step\n",
            "Epoch 39/200\n",
            "122/122 - 1s - loss: 200.0149 - 606ms/epoch - 5ms/step\n",
            "Epoch 40/200\n",
            "122/122 - 1s - loss: 207.1727 - 594ms/epoch - 5ms/step\n",
            "Epoch 41/200\n",
            "122/122 - 1s - loss: 203.9575 - 604ms/epoch - 5ms/step\n",
            "Epoch 42/200\n",
            "122/122 - 1s - loss: 204.5649 - 610ms/epoch - 5ms/step\n",
            "Epoch 43/200\n",
            "122/122 - 1s - loss: 204.7308 - 614ms/epoch - 5ms/step\n",
            "Epoch 44/200\n",
            "122/122 - 1s - loss: 206.0565 - 618ms/epoch - 5ms/step\n",
            "Epoch 45/200\n",
            "122/122 - 1s - loss: 203.8516 - 605ms/epoch - 5ms/step\n",
            "Epoch 46/200\n",
            "122/122 - 1s - loss: 200.6902 - 620ms/epoch - 5ms/step\n",
            "Epoch 47/200\n",
            "122/122 - 1s - loss: 204.4659 - 609ms/epoch - 5ms/step\n",
            "Epoch 48/200\n",
            "122/122 - 1s - loss: 201.0894 - 610ms/epoch - 5ms/step\n",
            "Epoch 49/200\n",
            "122/122 - 1s - loss: 204.8596 - 638ms/epoch - 5ms/step\n",
            "Epoch 50/200\n",
            "122/122 - 1s - loss: 201.9494 - 602ms/epoch - 5ms/step\n",
            "Epoch 51/200\n",
            "122/122 - 1s - loss: 200.8830 - 617ms/epoch - 5ms/step\n",
            "Epoch 52/200\n",
            "122/122 - 1s - loss: 202.9321 - 600ms/epoch - 5ms/step\n",
            "Epoch 53/200\n",
            "122/122 - 1s - loss: 202.2479 - 630ms/epoch - 5ms/step\n",
            "Epoch 54/200\n",
            "122/122 - 1s - loss: 201.1407 - 592ms/epoch - 5ms/step\n",
            "Epoch 55/200\n",
            "122/122 - 1s - loss: 199.5440 - 621ms/epoch - 5ms/step\n",
            "Epoch 56/200\n",
            "122/122 - 1s - loss: 204.1867 - 608ms/epoch - 5ms/step\n",
            "Epoch 57/200\n",
            "122/122 - 1s - loss: 204.5060 - 593ms/epoch - 5ms/step\n",
            "Epoch 58/200\n",
            "122/122 - 1s - loss: 203.8651 - 616ms/epoch - 5ms/step\n",
            "Epoch 59/200\n",
            "122/122 - 1s - loss: 202.8088 - 606ms/epoch - 5ms/step\n",
            "Epoch 60/200\n",
            "122/122 - 1s - loss: 202.3105 - 591ms/epoch - 5ms/step\n",
            "Epoch 61/200\n",
            "122/122 - 1s - loss: 200.8252 - 602ms/epoch - 5ms/step\n",
            "Epoch 62/200\n",
            "122/122 - 1s - loss: 203.4405 - 606ms/epoch - 5ms/step\n",
            "Epoch 63/200\n",
            "122/122 - 1s - loss: 201.8071 - 580ms/epoch - 5ms/step\n",
            "Epoch 64/200\n",
            "122/122 - 1s - loss: 200.0998 - 622ms/epoch - 5ms/step\n",
            "Epoch 65/200\n",
            "122/122 - 1s - loss: 203.9898 - 616ms/epoch - 5ms/step\n",
            "Epoch 66/200\n",
            "122/122 - 1s - loss: 200.9395 - 602ms/epoch - 5ms/step\n",
            "Epoch 67/200\n",
            "122/122 - 1s - loss: 204.7013 - 662ms/epoch - 5ms/step\n",
            "Epoch 68/200\n",
            "122/122 - 1s - loss: 201.9173 - 624ms/epoch - 5ms/step\n",
            "Epoch 69/200\n",
            "122/122 - 1s - loss: 206.3665 - 592ms/epoch - 5ms/step\n",
            "Epoch 70/200\n",
            "122/122 - 1s - loss: 199.2762 - 607ms/epoch - 5ms/step\n",
            "Epoch 71/200\n",
            "122/122 - 1s - loss: 201.1128 - 601ms/epoch - 5ms/step\n",
            "Epoch 72/200\n",
            "122/122 - 1s - loss: 202.3423 - 591ms/epoch - 5ms/step\n",
            "Epoch 73/200\n",
            "122/122 - 1s - loss: 204.5646 - 613ms/epoch - 5ms/step\n",
            "Epoch 74/200\n",
            "122/122 - 1s - loss: 202.3700 - 603ms/epoch - 5ms/step\n",
            "Epoch 75/200\n",
            "122/122 - 1s - loss: 204.0729 - 608ms/epoch - 5ms/step\n",
            "Epoch 76/200\n",
            "122/122 - 1s - loss: 200.2817 - 598ms/epoch - 5ms/step\n",
            "Epoch 77/200\n",
            "122/122 - 1s - loss: 204.4408 - 612ms/epoch - 5ms/step\n",
            "Epoch 78/200\n",
            "122/122 - 1s - loss: 204.5863 - 623ms/epoch - 5ms/step\n",
            "Epoch 79/200\n",
            "122/122 - 1s - loss: 199.1270 - 585ms/epoch - 5ms/step\n",
            "Epoch 80/200\n",
            "122/122 - 1s - loss: 203.7466 - 613ms/epoch - 5ms/step\n",
            "Epoch 81/200\n",
            "122/122 - 1s - loss: 200.7173 - 580ms/epoch - 5ms/step\n",
            "Epoch 82/200\n",
            "122/122 - 1s - loss: 201.7616 - 613ms/epoch - 5ms/step\n",
            "Epoch 83/200\n",
            "122/122 - 1s - loss: 201.0590 - 609ms/epoch - 5ms/step\n",
            "Epoch 84/200\n",
            "122/122 - 1s - loss: 200.4425 - 590ms/epoch - 5ms/step\n",
            "Epoch 85/200\n",
            "122/122 - 1s - loss: 199.3381 - 595ms/epoch - 5ms/step\n",
            "Epoch 86/200\n",
            "122/122 - 1s - loss: 206.3799 - 587ms/epoch - 5ms/step\n",
            "Epoch 87/200\n",
            "122/122 - 1s - loss: 200.7865 - 605ms/epoch - 5ms/step\n",
            "Epoch 88/200\n",
            "122/122 - 1s - loss: 199.3410 - 593ms/epoch - 5ms/step\n",
            "Epoch 89/200\n",
            "122/122 - 1s - loss: 201.5585 - 597ms/epoch - 5ms/step\n",
            "Epoch 90/200\n",
            "122/122 - 1s - loss: 200.4016 - 595ms/epoch - 5ms/step\n",
            "Epoch 91/200\n",
            "122/122 - 1s - loss: 204.2258 - 602ms/epoch - 5ms/step\n",
            "Epoch 92/200\n",
            "122/122 - 1s - loss: 202.5142 - 593ms/epoch - 5ms/step\n",
            "Epoch 93/200\n",
            "122/122 - 1s - loss: 199.8015 - 594ms/epoch - 5ms/step\n",
            "Epoch 94/200\n",
            "122/122 - 1s - loss: 198.4068 - 601ms/epoch - 5ms/step\n",
            "Epoch 95/200\n",
            "122/122 - 1s - loss: 203.2334 - 608ms/epoch - 5ms/step\n",
            "Epoch 96/200\n",
            "122/122 - 1s - loss: 202.5324 - 591ms/epoch - 5ms/step\n",
            "Epoch 97/200\n",
            "122/122 - 1s - loss: 199.4827 - 641ms/epoch - 5ms/step\n",
            "Epoch 98/200\n",
            "122/122 - 1s - loss: 201.1544 - 609ms/epoch - 5ms/step\n",
            "Epoch 99/200\n",
            "122/122 - 1s - loss: 200.6323 - 595ms/epoch - 5ms/step\n",
            "Epoch 100/200\n",
            "122/122 - 1s - loss: 225.1442 - 649ms/epoch - 5ms/step\n",
            "Epoch 101/200\n",
            "122/122 - 1s - loss: 214.3144 - 602ms/epoch - 5ms/step\n",
            "Epoch 102/200\n",
            "122/122 - 1s - loss: 198.0739 - 622ms/epoch - 5ms/step\n",
            "Epoch 103/200\n",
            "122/122 - 1s - loss: 196.9444 - 606ms/epoch - 5ms/step\n",
            "Epoch 104/200\n",
            "122/122 - 1s - loss: 196.7747 - 652ms/epoch - 5ms/step\n",
            "Epoch 105/200\n",
            "122/122 - 1s - loss: 201.0254 - 613ms/epoch - 5ms/step\n",
            "Epoch 106/200\n",
            "122/122 - 1s - loss: 202.3572 - 588ms/epoch - 5ms/step\n",
            "Epoch 107/200\n",
            "122/122 - 1s - loss: 198.8563 - 612ms/epoch - 5ms/step\n",
            "Epoch 108/200\n",
            "122/122 - 1s - loss: 199.2229 - 614ms/epoch - 5ms/step\n",
            "Epoch 109/200\n",
            "122/122 - 1s - loss: 199.8999 - 608ms/epoch - 5ms/step\n",
            "Epoch 110/200\n",
            "122/122 - 1s - loss: 205.6389 - 624ms/epoch - 5ms/step\n",
            "Epoch 111/200\n",
            "122/122 - 1s - loss: 197.5880 - 630ms/epoch - 5ms/step\n",
            "Epoch 112/200\n",
            "122/122 - 1s - loss: 202.5833 - 601ms/epoch - 5ms/step\n",
            "Epoch 113/200\n",
            "122/122 - 1s - loss: 199.5872 - 614ms/epoch - 5ms/step\n",
            "Epoch 114/200\n",
            "122/122 - 1s - loss: 199.1834 - 602ms/epoch - 5ms/step\n",
            "Epoch 115/200\n",
            "122/122 - 1s - loss: 202.6447 - 603ms/epoch - 5ms/step\n",
            "Epoch 116/200\n",
            "122/122 - 1s - loss: 208.5553 - 649ms/epoch - 5ms/step\n",
            "Epoch 117/200\n",
            "122/122 - 1s - loss: 201.3160 - 595ms/epoch - 5ms/step\n",
            "Epoch 118/200\n",
            "122/122 - 1s - loss: 197.6809 - 614ms/epoch - 5ms/step\n",
            "Epoch 119/200\n",
            "122/122 - 1s - loss: 202.4876 - 573ms/epoch - 5ms/step\n",
            "Epoch 120/200\n",
            "122/122 - 1s - loss: 197.8432 - 596ms/epoch - 5ms/step\n",
            "Epoch 121/200\n",
            "122/122 - 1s - loss: 201.8505 - 608ms/epoch - 5ms/step\n",
            "Epoch 122/200\n",
            "122/122 - 1s - loss: 201.5865 - 580ms/epoch - 5ms/step\n",
            "Epoch 123/200\n",
            "122/122 - 1s - loss: 197.6024 - 581ms/epoch - 5ms/step\n",
            "Epoch 124/200\n",
            "122/122 - 1s - loss: 198.4467 - 602ms/epoch - 5ms/step\n",
            "Epoch 125/200\n",
            "122/122 - 1s - loss: 198.8493 - 598ms/epoch - 5ms/step\n",
            "Epoch 126/200\n",
            "122/122 - 1s - loss: 203.9552 - 626ms/epoch - 5ms/step\n",
            "Epoch 127/200\n",
            "122/122 - 1s - loss: 197.4086 - 632ms/epoch - 5ms/step\n",
            "Epoch 128/200\n",
            "122/122 - 1s - loss: 201.5557 - 636ms/epoch - 5ms/step\n",
            "Epoch 129/200\n",
            "122/122 - 1s - loss: 200.0742 - 628ms/epoch - 5ms/step\n",
            "Epoch 130/200\n",
            "122/122 - 1s - loss: 203.1960 - 621ms/epoch - 5ms/step\n",
            "Epoch 131/200\n",
            "122/122 - 1s - loss: 198.6973 - 611ms/epoch - 5ms/step\n",
            "Epoch 132/200\n",
            "122/122 - 1s - loss: 202.7318 - 631ms/epoch - 5ms/step\n",
            "Epoch 133/200\n",
            "122/122 - 1s - loss: 199.5582 - 627ms/epoch - 5ms/step\n",
            "Epoch 134/200\n",
            "122/122 - 1s - loss: 198.0253 - 617ms/epoch - 5ms/step\n",
            "Epoch 135/200\n",
            "122/122 - 1s - loss: 203.8106 - 591ms/epoch - 5ms/step\n",
            "Epoch 136/200\n",
            "122/122 - 1s - loss: 197.0955 - 597ms/epoch - 5ms/step\n",
            "Epoch 137/200\n",
            "122/122 - 1s - loss: 198.5008 - 642ms/epoch - 5ms/step\n",
            "Epoch 138/200\n",
            "122/122 - 1s - loss: 198.7925 - 623ms/epoch - 5ms/step\n",
            "Epoch 139/200\n"
          ]
        }
      ]
    },
    {
      "cell_type": "code",
      "source": [
        "x_input = array([0,0,0,0,0,0,0,1,2020])\n",
        "x_input = x_input.reshape((1, n_steps, n_features))\n",
        "yhat = model.predict(x_input, verbose=0)\n",
        "print(yhat)"
      ],
      "metadata": {
        "id": "a_8olcIh-wp1"
      },
      "execution_count": null,
      "outputs": []
    },
    {
      "cell_type": "code",
      "source": [
        "lstm_river_pred = []\n",
        "\n",
        "for i in river_station_codes :\n",
        "  x_input = array([0,0,0,0,0,0,0,1,i])\n",
        "  x_input = x_input.reshape((1,n_steps,n_features))\n",
        "\n",
        "  output = model.predict(x_input,verbose = 0)\n",
        "  lstm_river_pred.append(output[0][0])"
      ],
      "metadata": {
        "id": "Ebka2C1pA50R"
      },
      "execution_count": null,
      "outputs": []
    },
    {
      "cell_type": "code",
      "source": [
        "print(max(lstm_river_pred))"
      ],
      "metadata": {
        "id": "Y30pz7JOBqAC"
      },
      "execution_count": null,
      "outputs": []
    },
    {
      "cell_type": "code",
      "source": [
        "start = 0\n",
        "end = 100\n",
        "width = end - start\n",
        "res = (lstm_river_pred - min(lstm_river_pred))/(max(lstm_river_pred) - min(lstm_river_pred)) * width + start"
      ],
      "metadata": {
        "id": "8J-oIjl5CvVw"
      },
      "execution_count": null,
      "outputs": []
    },
    {
      "cell_type": "markdown",
      "source": [
        "Ground Water analysis LSTM"
      ],
      "metadata": {
        "id": "fKH5JtlIE20c"
      }
    },
    {
      "cell_type": "code",
      "source": [
        "gw_df = pd.DataFrame()\n",
        "gw_df['Station_Code'] = wq_df_list[1]['Station_Code']\n",
        "gw_df['year'] = wq_df_list[1]['year']\n",
        "gw_df['wqi'] = wq_df_list[1]['wqi']\n",
        "\n",
        "gw_df.head()"
      ],
      "metadata": {
        "id": "CMP2isWkFBUw",
        "colab": {
          "base_uri": "https://localhost:8080/",
          "height": 206
        },
        "outputId": "1ea0f8e3-13ce-4f42-d123-9a9dfbe5db82"
      },
      "execution_count": null,
      "outputs": [
        {
          "data": {
            "text/html": [
              "\n",
              "  <div id=\"df-4ba1f024-1f24-4ee8-974b-1ccbca3c0b12\">\n",
              "    <div class=\"colab-df-container\">\n",
              "      <div>\n",
              "<style scoped>\n",
              "    .dataframe tbody tr th:only-of-type {\n",
              "        vertical-align: middle;\n",
              "    }\n",
              "\n",
              "    .dataframe tbody tr th {\n",
              "        vertical-align: top;\n",
              "    }\n",
              "\n",
              "    .dataframe thead th {\n",
              "        text-align: right;\n",
              "    }\n",
              "</style>\n",
              "<table border=\"1\" class=\"dataframe\">\n",
              "  <thead>\n",
              "    <tr style=\"text-align: right;\">\n",
              "      <th></th>\n",
              "      <th>Station_Code</th>\n",
              "      <th>year</th>\n",
              "      <th>wqi</th>\n",
              "    </tr>\n",
              "  </thead>\n",
              "  <tbody>\n",
              "    <tr>\n",
              "      <th>0</th>\n",
              "      <td>6</td>\n",
              "      <td>2019</td>\n",
              "      <td>42.70</td>\n",
              "    </tr>\n",
              "    <tr>\n",
              "      <th>1</th>\n",
              "      <td>1948</td>\n",
              "      <td>2019</td>\n",
              "      <td>42.70</td>\n",
              "    </tr>\n",
              "    <tr>\n",
              "      <th>2</th>\n",
              "      <td>1949</td>\n",
              "      <td>2019</td>\n",
              "      <td>42.70</td>\n",
              "    </tr>\n",
              "    <tr>\n",
              "      <th>6</th>\n",
              "      <td>1954</td>\n",
              "      <td>2019</td>\n",
              "      <td>53.94</td>\n",
              "    </tr>\n",
              "    <tr>\n",
              "      <th>8</th>\n",
              "      <td>1956</td>\n",
              "      <td>2019</td>\n",
              "      <td>59.56</td>\n",
              "    </tr>\n",
              "  </tbody>\n",
              "</table>\n",
              "</div>\n",
              "      <button class=\"colab-df-convert\" onclick=\"convertToInteractive('df-4ba1f024-1f24-4ee8-974b-1ccbca3c0b12')\"\n",
              "              title=\"Convert this dataframe to an interactive table.\"\n",
              "              style=\"display:none;\">\n",
              "        \n",
              "  <svg xmlns=\"http://www.w3.org/2000/svg\" height=\"24px\"viewBox=\"0 0 24 24\"\n",
              "       width=\"24px\">\n",
              "    <path d=\"M0 0h24v24H0V0z\" fill=\"none\"/>\n",
              "    <path d=\"M18.56 5.44l.94 2.06.94-2.06 2.06-.94-2.06-.94-.94-2.06-.94 2.06-2.06.94zm-11 1L8.5 8.5l.94-2.06 2.06-.94-2.06-.94L8.5 2.5l-.94 2.06-2.06.94zm10 10l.94 2.06.94-2.06 2.06-.94-2.06-.94-.94-2.06-.94 2.06-2.06.94z\"/><path d=\"M17.41 7.96l-1.37-1.37c-.4-.4-.92-.59-1.43-.59-.52 0-1.04.2-1.43.59L10.3 9.45l-7.72 7.72c-.78.78-.78 2.05 0 2.83L4 21.41c.39.39.9.59 1.41.59.51 0 1.02-.2 1.41-.59l7.78-7.78 2.81-2.81c.8-.78.8-2.07 0-2.86zM5.41 20L4 18.59l7.72-7.72 1.47 1.35L5.41 20z\"/>\n",
              "  </svg>\n",
              "      </button>\n",
              "      \n",
              "  <style>\n",
              "    .colab-df-container {\n",
              "      display:flex;\n",
              "      flex-wrap:wrap;\n",
              "      gap: 12px;\n",
              "    }\n",
              "\n",
              "    .colab-df-convert {\n",
              "      background-color: #E8F0FE;\n",
              "      border: none;\n",
              "      border-radius: 50%;\n",
              "      cursor: pointer;\n",
              "      display: none;\n",
              "      fill: #1967D2;\n",
              "      height: 32px;\n",
              "      padding: 0 0 0 0;\n",
              "      width: 32px;\n",
              "    }\n",
              "\n",
              "    .colab-df-convert:hover {\n",
              "      background-color: #E2EBFA;\n",
              "      box-shadow: 0px 1px 2px rgba(60, 64, 67, 0.3), 0px 1px 3px 1px rgba(60, 64, 67, 0.15);\n",
              "      fill: #174EA6;\n",
              "    }\n",
              "\n",
              "    [theme=dark] .colab-df-convert {\n",
              "      background-color: #3B4455;\n",
              "      fill: #D2E3FC;\n",
              "    }\n",
              "\n",
              "    [theme=dark] .colab-df-convert:hover {\n",
              "      background-color: #434B5C;\n",
              "      box-shadow: 0px 1px 3px 1px rgba(0, 0, 0, 0.15);\n",
              "      filter: drop-shadow(0px 1px 2px rgba(0, 0, 0, 0.3));\n",
              "      fill: #FFFFFF;\n",
              "    }\n",
              "  </style>\n",
              "\n",
              "      <script>\n",
              "        const buttonEl =\n",
              "          document.querySelector('#df-4ba1f024-1f24-4ee8-974b-1ccbca3c0b12 button.colab-df-convert');\n",
              "        buttonEl.style.display =\n",
              "          google.colab.kernel.accessAllowed ? 'block' : 'none';\n",
              "\n",
              "        async function convertToInteractive(key) {\n",
              "          const element = document.querySelector('#df-4ba1f024-1f24-4ee8-974b-1ccbca3c0b12');\n",
              "          const dataTable =\n",
              "            await google.colab.kernel.invokeFunction('convertToInteractive',\n",
              "                                                     [key], {});\n",
              "          if (!dataTable) return;\n",
              "\n",
              "          const docLinkHtml = 'Like what you see? Visit the ' +\n",
              "            '<a target=\"_blank\" href=https://colab.research.google.com/notebooks/data_table.ipynb>data table notebook</a>'\n",
              "            + ' to learn more about interactive tables.';\n",
              "          element.innerHTML = '';\n",
              "          dataTable['output_type'] = 'display_data';\n",
              "          await google.colab.output.renderOutput(dataTable, element);\n",
              "          const docLink = document.createElement('div');\n",
              "          docLink.innerHTML = docLinkHtml;\n",
              "          element.appendChild(docLink);\n",
              "        }\n",
              "      </script>\n",
              "    </div>\n",
              "  </div>\n",
              "  "
            ],
            "text/plain": [
              "   Station_Code  year    wqi\n",
              "0             6  2019  42.70\n",
              "1          1948  2019  42.70\n",
              "2          1949  2019  42.70\n",
              "6          1954  2019  53.94\n",
              "8          1956  2019  59.56"
            ]
          },
          "execution_count": null,
          "metadata": {},
          "output_type": "execute_result"
        }
      ]
    },
    {
      "cell_type": "code",
      "source": [
        "gw_station_codes = sorted(list(set(gw_df['Station_Code'].values)))"
      ],
      "metadata": {
        "id": "WJc8Kr4XFcpU"
      },
      "execution_count": null,
      "outputs": []
    },
    {
      "cell_type": "code",
      "source": [
        "dict2 = {}\n",
        "\n",
        "for i in gw_station_codes :\n",
        "  dict2[i] = []\n",
        "\n",
        "for i in gw_df.index :\n",
        "  station_code = gw_df[\"Station_Code\"][i]\n",
        "  year = gw_df[\"year\"][i]\n",
        "  wqi = gw_df[\"wqi\"][i]\n",
        "\n",
        "  dict2[station_code].append([year,wqi])"
      ],
      "metadata": {
        "id": "f-ndY9q5FueW"
      },
      "execution_count": null,
      "outputs": []
    },
    {
      "cell_type": "code",
      "source": [
        "gw_seq = list()\n",
        "for key,values in dict2.items():\n",
        "  temp = [key]\n",
        "  count = 0\n",
        "  values = sorted(values)\n",
        "  for v in values:\n",
        "    if count > 0 :\n",
        "      temp.pop()\n",
        "    temp.append(v[0])\n",
        "    temp.append(v[1])\n",
        "    gw_seq.append(temp.copy())\n",
        "    #print(temp)\n",
        "    count = count + 1"
      ],
      "metadata": {
        "id": "7yggDrWoF379"
      },
      "execution_count": null,
      "outputs": []
    },
    {
      "cell_type": "code",
      "source": [
        "dict3 = {}\n",
        "\n",
        "for i in gw_seq :\n",
        "  dict3[i[1]] = 1\n",
        "\n",
        "print(dict3)"
      ],
      "metadata": {
        "id": "GLhlXaHiGFk4",
        "colab": {
          "base_uri": "https://localhost:8080/"
        },
        "outputId": "84adb7ae-73ed-46d5-ff68-3898c13e6f26"
      },
      "execution_count": null,
      "outputs": [
        {
          "metadata": {
            "tags": null
          },
          "name": "stdout",
          "output_type": "stream",
          "text": [
            "{2019: 1}\n"
          ]
        }
      ]
    },
    {
      "cell_type": "markdown",
      "source": [
        "GRU Model on River Data"
      ],
      "metadata": {
        "id": "80qhuC9clW0X"
      }
    },
    {
      "cell_type": "code",
      "source": [
        "type(X)\n",
        "X = X.astype(float)"
      ],
      "metadata": {
        "id": "m7qOs8G5mTiq"
      },
      "execution_count": null,
      "outputs": []
    },
    {
      "cell_type": "code",
      "source": [
        "model2 = Sequential()\n",
        "\n",
        "model2.add(Bidirectional(LSTM(64, activation='relu', input_shape=(n_steps, n_features))))\n",
        "model2.add(Dropout(0.5))\n",
        "model2.add(Dense(1, activation='sigmoid'))\n",
        "model2.compile(optimizer='adam', loss = 'mse')\n",
        "model2.fit(X,y,epochs = 8, verbose = 2)"
      ],
      "metadata": {
        "id": "NkHzv2RQld8D",
        "colab": {
          "base_uri": "https://localhost:8080/"
        },
        "outputId": "b0cc52af-d898-4079-bddc-fe9e19553fff"
      },
      "execution_count": null,
      "outputs": [
        {
          "metadata": {
            "tags": null
          },
          "name": "stdout",
          "output_type": "stream",
          "text": [
            "Epoch 1/8\n",
            "122/122 - 3s - loss: 5115.2007 - 3s/epoch - 27ms/step\n",
            "Epoch 2/8\n",
            "122/122 - 1s - loss: 5089.5161 - 1s/epoch - 8ms/step\n",
            "Epoch 3/8\n",
            "122/122 - 1s - loss: 5088.7998 - 1s/epoch - 8ms/step\n",
            "Epoch 4/8\n",
            "122/122 - 1s - loss: 5088.8315 - 993ms/epoch - 8ms/step\n",
            "Epoch 5/8\n",
            "122/122 - 1s - loss: 5088.8506 - 1s/epoch - 8ms/step\n",
            "Epoch 6/8\n",
            "122/122 - 1s - loss: 5088.5762 - 1s/epoch - 9ms/step\n",
            "Epoch 7/8\n",
            "122/122 - 1s - loss: 5088.4175 - 1s/epoch - 9ms/step\n",
            "Epoch 8/8\n",
            "122/122 - 1s - loss: 5088.4502 - 1s/epoch - 9ms/step\n"
          ]
        },
        {
          "data": {
            "text/plain": [
              "<keras.callbacks.History at 0x7efd09c81e90>"
            ]
          },
          "execution_count": null,
          "metadata": {},
          "output_type": "execute_result"
        }
      ]
    },
    {
      "cell_type": "code",
      "source": [
        "bi_lstm_river_pred = []\n",
        "\n",
        "#for i in river_station_codes :\n",
        "x_input = array([0,0,0,0,0,0,0,1,2020])\n",
        "x_input = x_input.reshape((1,n_steps,n_features))\n",
        "\n",
        "output = model2.predict(x_input,verbose = 0)\n",
        "bi_lstm_river_pred.append(output[0][0])\n",
        "print(bi_lstm_river_pred)"
      ],
      "metadata": {
        "id": "bByafL5UpxEj",
        "colab": {
          "base_uri": "https://localhost:8080/"
        },
        "outputId": "79673d08-f116-4965-b90e-8f02babbbe10"
      },
      "execution_count": null,
      "outputs": [
        {
          "output_type": "stream",
          "name": "stdout",
          "text": [
            "[1.0]\n"
          ]
        }
      ]
    },
    {
      "cell_type": "code",
      "source": [
        "start = 0\n",
        "end = 100\n",
        "width = end - start\n",
        "bi_lstm_river_pred = (bi_lstm_river_pred - min(bi_lstm_river_pred))/(max(bi_lstm_river_pred) - min(bi_lstm_river_pred)) * width + start"
      ],
      "metadata": {
        "id": "wz82lzfuqdhr"
      },
      "execution_count": null,
      "outputs": []
    },
    {
      "cell_type": "markdown",
      "source": [
        "Analysis"
      ],
      "metadata": {
        "id": "4iCyayzx6bFm"
      }
    },
    {
      "cell_type": "code",
      "source": [
        "from matplotlib import pyplot as plt"
      ],
      "metadata": {
        "id": "k0nIesla816l"
      },
      "execution_count": null,
      "outputs": []
    },
    {
      "cell_type": "code",
      "source": [
        "\n",
        "def create_pie_chart_for_river(year_num) :\n",
        "\n",
        "  list1 = [0,0,0,0,0]\n",
        "  for i in river_df.index :\n",
        "  \n",
        "    year = river_df[\"year\"][i]\n",
        "    if year == year_num :\n",
        "      wq = river_df[\"wqi\"][i]\n",
        "      if wq >= 0 and wq <= 25 :\n",
        "        list1[0] = list1[0] + 1\n",
        "      elif wq >= 26 and wq <= 50 :\n",
        "        list1[1] = list1[1] + 1\n",
        "      elif wq >= 51 and wq <= 75 : \n",
        "        list1[2] = list1[2] + 1 \n",
        "      elif wq >= 76 and wq <= 100 :\n",
        "        list1[3] = list1[3] + 1\n",
        "      else :\n",
        "        list1[4] = list1[4] + 1\n",
        "  \n",
        "  \n",
        "  names = [\"Excellent\",\"Good\",\"Poor\",\"Very Poor\",\"Unsuitable\"]\n",
        "  fig = plt.figure(figsize =(10, 7))\n",
        "  plt.pie(list1,labels = names,autopct='%1.2f%%')\n",
        "  plt.show()\n"
      ],
      "metadata": {
        "id": "vCOtZ_PX6cZS"
      },
      "execution_count": null,
      "outputs": []
    },
    {
      "cell_type": "code",
      "source": [
        "create_pie_chart_for_river(2013)"
      ],
      "metadata": {
        "id": "-PZUtD0o9A-B",
        "colab": {
          "base_uri": "https://localhost:8080/",
          "height": 411
        },
        "outputId": "7948d494-140a-464b-d552-2bd3f83e05f0"
      },
      "execution_count": null,
      "outputs": [
        {
          "output_type": "display_data",
          "data": {
            "text/plain": [
              "<Figure size 720x504 with 1 Axes>"
            ],
            "image/png": "[encoded data removed]"
          },
          "metadata": {}
        }
      ]
    },
    {
      "cell_type": "code",
      "source": [
        "create_pie_chart_for_river(2014)"
      ],
      "metadata": {
        "id": "Ry-BjQeF9rKG",
        "colab": {
          "base_uri": "https://localhost:8080/",
          "height": 411
        },
        "outputId": "4a3c98c3-c65f-4dde-9727-1d9497cbde4d"
      },
      "execution_count": null,
      "outputs": [
        {
          "output_type": "display_data",
          "data": {
            "text/plain": [
              "<Figure size 720x504 with 1 Axes>"
            ],
            "image/png": "[encoded data removed]"
          },
          "metadata": {}
        }
      ]
    },
    {
      "cell_type": "code",
      "source": [
        "create_pie_chart_for_river(2016)"
      ],
      "metadata": {
        "id": "Q5JNphuB-BRg",
        "colab": {
          "base_uri": "https://localhost:8080/",
          "height": 411
        },
        "outputId": "9587f8e2-51ce-4898-fbb7-adf5de367d2a"
      },
      "execution_count": null,
      "outputs": [
        {
          "output_type": "display_data",
          "data": {
            "text/plain": [
              "<Figure size 720x504 with 1 Axes>"
            ],
            "image/png": "[encoded data removed]"
          },
          "metadata": {}
        }
      ]
    },
    {
      "cell_type": "code",
      "source": [
        "create_pie_chart_for_river(2017)"
      ],
      "metadata": {
        "id": "cb_g5TOg-GFA",
        "colab": {
          "base_uri": "https://localhost:8080/",
          "height": 411
        },
        "outputId": "3f2ac1a3-d63f-4fee-b68d-ec727f7e451e"
      },
      "execution_count": null,
      "outputs": [
        {
          "output_type": "display_data",
          "data": {
            "text/plain": [
              "<Figure size 720x504 with 1 Axes>"
            ],
            "image/png": "[encoded data removed]"
          },
          "metadata": {}
        }
      ]
    },
    {
      "cell_type": "code",
      "source": [
        "create_pie_chart_for_river(2018)"
      ],
      "metadata": {
        "id": "8nEV4CSa-JDa",
        "colab": {
          "base_uri": "https://localhost:8080/",
          "height": 411
        },
        "outputId": "d410e048-1e6a-4ffa-f9d9-edf68a6bbc85"
      },
      "execution_count": null,
      "outputs": [
        {
          "output_type": "display_data",
          "data": {
            "text/plain": [
              "<Figure size 720x504 with 1 Axes>"
            ],
            "image/png": "[encoded data removed]"
          },
          "metadata": {}
        }
      ]
    },
    {
      "cell_type": "code",
      "source": [
        "create_pie_chart_for_river(2019)"
      ],
      "metadata": {
        "id": "7pQSGqhG-LXw",
        "colab": {
          "base_uri": "https://localhost:8080/",
          "height": 411
        },
        "outputId": "95fa4bd7-e4bd-4109-c548-aa946f279421"
      },
      "execution_count": null,
      "outputs": [
        {
          "output_type": "display_data",
          "data": {
            "text/plain": [
              "<Figure size 720x504 with 1 Axes>"
            ],
            "image/png": "[encoded data removed]"
          },
          "metadata": {}
        }
      ]
    },
    {
      "cell_type": "code",
      "source": [
        "list1 = [0,0,0,0,0]\n",
        "for i in gw_df.index :\n",
        "  wq = gw_df[\"wqi\"][i]\n",
        "  if wq >= 0 and wq <= 25 :\n",
        "    list1[0] = list1[0] + 1\n",
        "  elif wq >= 26 and wq <= 50 :\n",
        "    list1[1] = list1[1] + 1\n",
        "  elif wq >= 51 and wq <= 75 : \n",
        "    list1[2] = list1[2] + 1 \n",
        "  elif wq >= 76 and wq <= 100 :\n",
        "    list1[3] = list1[3] + 1\n",
        "  else :\n",
        "    list1[4] = list1[4] + 1\n",
        "        \n",
        "names = [\"Excellent\",\"Good\",\"Poor\",\"Very Poor\",\"Unsuitable\"]\n",
        "fig = plt.figure(figsize =(10, 7))\n",
        "plt.pie(list1,labels = names,autopct='%1.2f%%')\n",
        "plt.show()"
      ],
      "metadata": {
        "colab": {
          "base_uri": "https://localhost:8080/",
          "height": 411
        },
        "id": "C9a7mDCOJ7Ex",
        "outputId": "ccef02c8-bfb9-4a7a-faac-10a169963eba"
      },
      "execution_count": null,
      "outputs": [
        {
          "output_type": "display_data",
          "data": {
            "text/plain": [
              "<Figure size 720x504 with 1 Axes>"
            ],
            "image/png": "[encoded data removed]"
          },
          "metadata": {}
        }
      ]
    },
    {
      "cell_type": "markdown",
      "source": [
        "Prediction and plotting"
      ],
      "metadata": {
        "id": "7EAY8nLS--R7"
      }
    },
    {
      "cell_type": "code",
      "source": [
        "lstm_river_pred = [[],[],[],[]]\n",
        "\n",
        "\n",
        "for i in river_station_codes :\n",
        "  years = [2020,2021,2022,2023]\n",
        "  for j in range(0,len(years)) :\n",
        "    x_input = array([0,0,0,0,0,0,0,i,years[j]])\n",
        "    x_input = x_input.reshape((1,n_steps,n_features))\n",
        "\n",
        "    output = model.predict(x_input,verbose = 0)\n",
        "    lstm_river_pred[j].append(output[0][0])\n",
        "\n",
        "start = 0\n",
        "end = 100\n",
        "width = end - start\n",
        "\n",
        "for i in range(len(lstm_river_pred)) :\n",
        "  for j in range(len(lstm_river_pred[i])):\n",
        "    lstm_river_pred[i][j] = (lstm_river_pred[i][j] - min(lstm_river_pred[i]))/(max(lstm_river_pred[i]) - min(lstm_river_pred[i])) * width + start"
      ],
      "metadata": {
        "id": "CmUlWmLG-_-F"
      },
      "execution_count": null,
      "outputs": []
    },
    {
      "cell_type": "code",
      "source": [
        "count_list = [0,0,0,0,0,0]\n",
        "sum_list = [0,0,0,0,0,0]\n",
        "\n",
        "for i in river_df.index :\n",
        "  if river_df[\"year\"][i] == 2013 :\n",
        "    count_list[0] = count_list[0] + 1\n",
        "    sum_list[0] = sum_list[0] + river_df[\"wqi\"][i]\n",
        "  elif river_df[\"year\"][i] == 2014 :\n",
        "    count_list[1] = count_list[1] + 1\n",
        "    sum_list[1] = sum_list[1] + river_df[\"wqi\"][i]\n",
        "  elif river_df[\"year\"][i] == 2016 :\n",
        "    count_list[2] = count_list[2] + 1\n",
        "    sum_list[2] = sum_list[2] + river_df[\"wqi\"][i]\n",
        "  elif river_df[\"year\"][i] == 2017 :\n",
        "    count_list[3] = count_list[3] + 1\n",
        "    sum_list[3] = sum_list[3] + river_df[\"wqi\"][i]\n",
        "  elif river_df[\"year\"][i] == 2018 :\n",
        "    count_list[4] = count_list[4] + 1\n",
        "    sum_list[4] = sum_list[4] + river_df[\"wqi\"][i]\n",
        "  elif river_df[\"year\"][i] == 2019 :\n",
        "    count_list[5] = count_list[5] + 1\n",
        "    sum_list[5] = sum_list[5] + river_df[\"wqi\"][i]\n",
        "\n",
        "for i in range(len(count_list)) :\n",
        "  sum_list[i] = sum_list[i]/count_list[i]\n"
      ],
      "metadata": {
        "id": "Li6wALa_BHJA"
      },
      "execution_count": null,
      "outputs": []
    },
    {
      "cell_type": "code",
      "source": [
        "for i in range(len(lstm_river_pred)) :\n",
        "  sum_list.append(sum(lstm_river_pred[i])/len(lstm_river_pred[i]))"
      ],
      "metadata": {
        "id": "eL5I7orQDVcv"
      },
      "execution_count": null,
      "outputs": []
    },
    {
      "cell_type": "code",
      "source": [
        "print(sum_list)"
      ],
      "metadata": {
        "colab": {
          "base_uri": "https://localhost:8080/"
        },
        "id": "hciV_HSa3VvD",
        "outputId": "daaecb46-5a01-4db0-a1de-75b9b6668991"
      },
      "execution_count": null,
      "outputs": [
        {
          "output_type": "stream",
          "name": "stdout",
          "text": [
            "[71.63246891651886, 70.2326071428572, 70.12539325842721, 71.79196694214893, 71.99310077519398, 72.09825396825413, 76.17713142850218, 76.16903845470249, 76.16089430213984, 76.1527237765324]\n"
          ]
        }
      ]
    },
    {
      "cell_type": "code",
      "source": [
        "fig = plt.figure(figsize = (10, 5))\n",
        "years_list = [2013,2014,2016,2017,2018,2019,2020,2021,2022,2023]\n",
        "plt.bar(years_list,sum_list, color ='maroon',width = 0.4)\n",
        " \n",
        "plt.xlabel(\"Years \")\n",
        "plt.ylabel(\"AVG WQI using LSTM\")\n",
        "plt.title(\"AVG WQI Over the years\")\n",
        "plt.show()"
      ],
      "metadata": {
        "colab": {
          "base_uri": "https://localhost:8080/",
          "height": 350
        },
        "id": "A8Mf5avnED4w",
        "outputId": "148de608-16ab-4ec2-da14-3eb1d66dabd2"
      },
      "execution_count": null,
      "outputs": [
        {
          "output_type": "display_data",
          "data": {
            "text/plain": [
              "<Figure size 720x360 with 1 Axes>"
            ],
            "image/png": "[encoded data removed]"
          },
          "metadata": {
            "needs_background": "light"
          }
        }
      ]
    },
    {
      "cell_type": "code",
      "source": [
        "bi_lstm_river_pred = [[],[],[],[]]\n",
        "\n",
        "\n",
        "for i in river_station_codes :\n",
        "  years = [2020,2021,2022,2023]\n",
        "  for j in range(0,len(years)) :\n",
        "    x_input = array([0,0,0,0,0,0,0,i,years[j]])\n",
        "    x_input = x_input.reshape((1,n_steps,n_features))\n",
        "\n",
        "    output = model2.predict(x_input,verbose = 0)\n",
        "    bi_lstm_river_pred[j].append(output[0][0])\n",
        "\n",
        "start = 0\n",
        "end = 100\n",
        "width = end - start\n",
        "\"\"\"\n",
        "for i in range(len(bi_lstm_river_pred)) :\n",
        "  bi_lstm_river_pred[i] = (bi_lstm_river_pred[i] - min(bi_lstm_river_pred[i]))/(max(bi_lstm_river_pred[i]) - min(bi_lstm_river_pred[i])) * width + start\n",
        "\"\"\"\n"
      ],
      "metadata": {
        "colab": {
          "base_uri": "https://localhost:8080/",
          "height": 53
        },
        "id": "a1J6f5QtFFr7",
        "outputId": "7282492a-49bc-472b-d7c8-1fbf764f12dc"
      },
      "execution_count": null,
      "outputs": [
        {
          "output_type": "execute_result",
          "data": {
            "text/plain": [
              "'\\nfor i in range(len(bi_lstm_river_pred)) :\\n  bi_lstm_river_pred[i] = (bi_lstm_river_pred[i] - min(bi_lstm_river_pred[i]))/(max(bi_lstm_river_pred[i]) - min(bi_lstm_river_pred[i])) * width + start\\n'"
            ],
            "application/vnd.google.colaboratory.intrinsic+json": {
              "type": "string"
            }
          },
          "metadata": {},
          "execution_count": 65
        }
      ]
    },
    {
      "cell_type": "code",
      "source": [
        "sum_list_2 = []\n",
        "\n",
        "for i in range(6) :\n",
        "  sum_list_2.append(sum_list[i])\n",
        "\"\"\"\n",
        "for i in range(len(bi_lstm_river_pred)) :\n",
        "  sum_list_2.append(sum(bi_lstm_river_pred[i])/len(bi_lstm_river_pred[i]))\n",
        "\"\"\""
      ],
      "metadata": {
        "id": "fzbXiKN4GSd7",
        "colab": {
          "base_uri": "https://localhost:8080/",
          "height": 53
        },
        "outputId": "4f015e89-0ecb-4a75-a2da-6d81325f6caa"
      },
      "execution_count": null,
      "outputs": [
        {
          "output_type": "execute_result",
          "data": {
            "text/plain": [
              "'\\nfor i in range(len(bi_lstm_river_pred)) :\\n  sum_list_2.append(sum(bi_lstm_river_pred[i])/len(bi_lstm_river_pred[i]))\\n'"
            ],
            "application/vnd.google.colaboratory.intrinsic+json": {
              "type": "string"
            }
          },
          "metadata": {},
          "execution_count": 73
        }
      ]
    },
    {
      "cell_type": "markdown",
      "source": [
        "Linear Regression"
      ],
      "metadata": {
        "id": "Vy0Nmw1dxq5P"
      }
    },
    {
      "cell_type": "code",
      "source": [
        "from sklearn import linear_model\n",
        "\n",
        "x_features = [2013,2014,2016,2017,2018,2019]\n",
        "x_features = np.array(x_features)\n",
        "x_features = x_features.reshape(-1,1)\n",
        "lin_model = linear_model.LinearRegression()\n",
        "y = np.array(sum_list_2)\n",
        "#print(x_features.shape)\n",
        "#print(y.shape)\n",
        "lin_model.fit(x_features,y)\n"
      ],
      "metadata": {
        "colab": {
          "base_uri": "https://localhost:8080/"
        },
        "id": "ZRXWR_38xuoK",
        "outputId": "4a5bab87-211a-4090-ca63-39261c689dbd"
      },
      "execution_count": null,
      "outputs": [
        {
          "output_type": "execute_result",
          "data": {
            "text/plain": [
              "LinearRegression()"
            ]
          },
          "metadata": {},
          "execution_count": 81
        }
      ]
    },
    {
      "cell_type": "code",
      "source": [
        "pred_years = [2020,2021,2022,2023]\n",
        "pred_years = np.array(pred_years)\n",
        "pred_years = pred_years.reshape(-1,1)\n",
        "\n",
        "out = lin_model.predict(pred_years)\n"
      ],
      "metadata": {
        "colab": {
          "base_uri": "https://localhost:8080/"
        },
        "id": "v9aYXwO-zYE2",
        "outputId": "8ca80561-dd82-4376-c040-86168c252f60"
      },
      "execution_count": null,
      "outputs": [
        {
          "output_type": "stream",
          "name": "stdout",
          "text": [
            "[72.08344291 72.28461102 72.48577912 72.68694723]\n"
          ]
        }
      ]
    },
    {
      "cell_type": "code",
      "source": [
        "sum_list_2.extend(out)"
      ],
      "metadata": {
        "id": "7ahLN91w0ART"
      },
      "execution_count": null,
      "outputs": []
    },
    {
      "cell_type": "code",
      "source": [
        "print(sum_list_2)"
      ],
      "metadata": {
        "colab": {
          "base_uri": "https://localhost:8080/"
        },
        "id": "fjFJ4_Yi3bFk",
        "outputId": "e5ab4766-d673-4db3-b770-2134bacc73f5"
      },
      "execution_count": null,
      "outputs": [
        {
          "output_type": "stream",
          "name": "stdout",
          "text": [
            "[71.63246891651886, 70.2326071428572, 70.12539325842721, 71.79196694214893, 71.99310077519398, 72.09825396825413, 72.08344290934696, 72.28461101598526, 72.48577912262357, 72.68694722926188]\n"
          ]
        }
      ]
    },
    {
      "cell_type": "code",
      "source": [
        "fig = plt.figure(figsize = (10, 5))\n",
        "years_list = [2013,2014,2016,2017,2018,2019,2020,2021,2022,2023]\n",
        "plt.bar(years_list,sum_list_2, color ='maroon',width = 0.4)\n",
        " \n",
        "plt.xlabel(\"Years \")\n",
        "plt.ylabel(\"AVG WQI using Linear Regression\")\n",
        "plt.title(\"AVG WQI Over the years\")\n",
        "plt.show()"
      ],
      "metadata": {
        "colab": {
          "base_uri": "https://localhost:8080/",
          "height": 350
        },
        "id": "a4eMpPbA0DAm",
        "outputId": "eddbfdd2-af9c-4072-ff46-9ff5d9b25703"
      },
      "execution_count": null,
      "outputs": [
        {
          "output_type": "display_data",
          "data": {
            "text/plain": [
              "<Figure size 720x360 with 1 Axes>"
            ],
            "image/png": "[encoded data removed]"
          },
          "metadata": {
            "needs_background": "light"
          }
        }
      ]
    }
  ]
}